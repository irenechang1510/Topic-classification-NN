{
 "cells": [
  {
   "cell_type": "markdown",
   "source": [
    "# Topic classification with NN\n",
    "\n",
    "Steps:\n",
    "1. Web scrape information from coronanet.org\n",
    "2. Clean texts - get from coronanet project\n",
    "3. Fit the base model - Logistic regression\n",
    "4. Fit neural network model (with and without the dropout layers)\n",
    "5. Discuss the results and get feedback"
   ],
   "metadata": {}
  },
  {
   "cell_type": "code",
   "execution_count": 2,
   "source": [
    "from selenium import webdriver\n",
    "from parsel import Selector\n",
    "import time\n",
    "import tensorflow as tf\n",
    "import pandas as pd\n",
    "import numpy as np\n",
    "from sklearn.model_selection import train_test_split\n",
    "from sklearn.metrics import classification_report\n",
    "import tensorflow_hub as hub\n",
    "\n",
    "import nltk\n",
    "from nltk.corpus import stopwords\n",
    "from nltk.stem import WordNetLemmatizer\n",
    "from sklearn.feature_extraction.text import TfidfVectorizer\n",
    "from sklearn.model_selection import train_test_split\n",
    "import re\n",
    "import pycountry"
   ],
   "outputs": [],
   "metadata": {}
  },
  {
   "cell_type": "markdown",
   "source": [
    "## 1. Webscrape info from github with selenium "
   ],
   "metadata": {}
  },
  {
   "cell_type": "code",
   "execution_count": 70,
   "source": [
    "driver = webdriver.Chrome('/Users/irenechang/Downloads/chromedriver')\n",
    "driver.get('https://github.com/CoronaNetDataScience/corona_tscs/tree/master/data/CoronaNet/data_country/coronanet_release')"
   ],
   "outputs": [],
   "metadata": {}
  },
  {
   "cell_type": "code",
   "execution_count": 79,
   "source": [
    "#Germany, USA, Spain, Australia\n",
    "country_names = ['Germany', 'United States of America', 'Spain', 'Australia', 'India', 'Brazil', 'China', 'Russia', 'Japan', 'Italy']\n",
    "countries_to_scrape = []\n",
    "\n",
    "#parse string together\n",
    "for country in country_names:\n",
    "    countries_to_scrape.append(\"coronanet_release_\" + country + \".csv\")\n",
    "\n",
    "\n",
    "# go into each link - hit download\n",
    "# '/a[@title=\"coronanet_release_United States of America.csv\"]/@href'\n",
    "urls = []\n",
    "for country in countries_to_scrape:\n",
    "    xPath = \"//a[@title='\"+ country + \"']\"\n",
    "    print(xPath)\n",
    "    link = driver.find_element_by_xpath(xPath).get_attribute(\"href\")\n",
    "    urls.append(link)\n",
    "\n",
    "# get the csv\n",
    "csv_urls = []\n",
    "for url in urls:\n",
    "    driver.get(url)\n",
    "    sel = Selector(text=driver.page_source) # what is this for again?...\n",
    "    raw_csv = driver.find_element_by_id('raw-url').get_attribute(\"href\")\n",
    "    csv_urls.append(raw_csv)"
   ],
   "outputs": [
    {
     "output_type": "stream",
     "name": "stdout",
     "text": [
      "//a[@title='coronanet_release_Germany.csv']\n",
      "//a[@title='coronanet_release_United States of America.csv']\n",
      "//a[@title='coronanet_release_Spain.csv']\n",
      "//a[@title='coronanet_release_Australia.csv']\n",
      "//a[@title='coronanet_release_India.csv']\n",
      "//a[@title='coronanet_release_Brazil.csv']\n",
      "//a[@title='coronanet_release_China.csv']\n",
      "//a[@title='coronanet_release_Russia.csv']\n",
      "//a[@title='coronanet_release_Japan.csv']\n",
      "//a[@title='coronanet_release_Italy.csv']\n"
     ]
    }
   ],
   "metadata": {}
  },
  {
   "cell_type": "code",
   "execution_count": 80,
   "source": [
    "dfs = []\n",
    "for csv in csv_urls:\n",
    "    # read each csv into a separate dataframe\n",
    "    dfs.append(pd.read_csv(csv))\n",
    "\n",
    "big_frame = pd.concat(dfs, ignore_index=True)"
   ],
   "outputs": [],
   "metadata": {}
  },
  {
   "cell_type": "code",
   "execution_count": 81,
   "source": [
    "big_frame.shape"
   ],
   "outputs": [
    {
     "output_type": "execute_result",
     "data": {
      "text/plain": [
       "(33206, 40)"
      ]
     },
     "metadata": {},
     "execution_count": 81
    }
   ],
   "metadata": {}
  },
  {
   "cell_type": "code",
   "execution_count": 82,
   "source": [
    "big_frame.columns"
   ],
   "outputs": [
    {
     "output_type": "execute_result",
     "data": {
      "text/plain": [
       "Index(['record_id', 'policy_id', 'entry_type', 'correct_type', 'update_type',\n",
       "       'update_level', 'description', 'date_announced', 'date_start',\n",
       "       'date_end', 'country', 'ISO_A3', 'ISO_A2', 'init_country_level',\n",
       "       'domestic_policy', 'province', 'ISO_L2', 'city', 'type', 'type_sub_cat',\n",
       "       'type_text', 'institution_status', 'target_country',\n",
       "       'target_geog_level', 'target_region', 'target_province', 'target_city',\n",
       "       'target_other', 'target_who_what', 'target_direction',\n",
       "       'travel_mechanism', 'compliance', 'enforcer', 'dist_index_high_est',\n",
       "       'dist_index_med_est', 'dist_index_low_est', 'dist_index_country_rank',\n",
       "       'link', 'date_updated', 'recorded_date'],\n",
       "      dtype='object')"
      ]
     },
     "metadata": {},
     "execution_count": 82
    }
   ],
   "metadata": {}
  },
  {
   "cell_type": "code",
   "execution_count": 83,
   "source": [
    "big_frame.head(3)"
   ],
   "outputs": [
    {
     "output_type": "execute_result",
     "data": {
      "text/plain": [
       "             record_id policy_id entry_type correct_type update_type  \\\n",
       "0  R_DT9wJ6cfpACiXyVNA   1475054  new_entry     original         NaN   \n",
       "1  R_5p95bNFstNDs9UdNA   5717782  new_entry     original         NaN   \n",
       "2  R_2Qgl6LnVGJvdYioNA   6291168  new_entry     original         NaN   \n",
       "\n",
       "  update_level                                        description  \\\n",
       "0          NaN  In Baden-Württemberg (Germany) the city of Stu...   \n",
       "1          NaN  Bremen (Germany) informs about fake news about...   \n",
       "2          NaN  The Thuringia government introduces citizens t...   \n",
       "\n",
       "  date_announced  date_start    date_end  ... travel_mechanism  \\\n",
       "0     2020-03-17  2020-03-17  2020-03-17  ...              NaN   \n",
       "1     2020-03-26  2020-03-26  2020-03-26  ...              NaN   \n",
       "2     2020-03-30  2020-03-30         NaN  ...              NaN   \n",
       "\n",
       "                               compliance                     enforcer  \\\n",
       "0         Mandatory (Unspecified/Implied)  Provincial/State Government   \n",
       "1         Mandatory (Unspecified/Implied)  Provincial/State Government   \n",
       "2  Voluntary/Recommended but No Penalties  Provincial/State Government   \n",
       "\n",
       "  dist_index_high_est  dist_index_med_est dist_index_low_est  \\\n",
       "0           57.590903           54.734064          51.729718   \n",
       "1           68.460588           65.451526          62.565660   \n",
       "2           69.580439           66.680645          64.092800   \n",
       "\n",
       "  dist_index_country_rank                                               link  \\\n",
       "0                   102.0  https://www.stuttgarter-nachrichten.de/inhalt....   \n",
       "1                    90.0  https://www.bremen-innovativ.de/2020/03/fake-n...   \n",
       "2                    80.0  https://corona.thueringen.de/buerger-soziales/...   \n",
       "\n",
       "  date_updated         recorded_date  \n",
       "0   2020-08-22  2020-08-22T14:59:54Z  \n",
       "1   2020-08-18  2020-08-18T06:45:40Z  \n",
       "2   2020-09-03  2020-09-03T13:35:20Z  \n",
       "\n",
       "[3 rows x 40 columns]"
      ],
      "text/html": [
       "<div>\n",
       "<style scoped>\n",
       "    .dataframe tbody tr th:only-of-type {\n",
       "        vertical-align: middle;\n",
       "    }\n",
       "\n",
       "    .dataframe tbody tr th {\n",
       "        vertical-align: top;\n",
       "    }\n",
       "\n",
       "    .dataframe thead th {\n",
       "        text-align: right;\n",
       "    }\n",
       "</style>\n",
       "<table border=\"1\" class=\"dataframe\">\n",
       "  <thead>\n",
       "    <tr style=\"text-align: right;\">\n",
       "      <th></th>\n",
       "      <th>record_id</th>\n",
       "      <th>policy_id</th>\n",
       "      <th>entry_type</th>\n",
       "      <th>correct_type</th>\n",
       "      <th>update_type</th>\n",
       "      <th>update_level</th>\n",
       "      <th>description</th>\n",
       "      <th>date_announced</th>\n",
       "      <th>date_start</th>\n",
       "      <th>date_end</th>\n",
       "      <th>...</th>\n",
       "      <th>travel_mechanism</th>\n",
       "      <th>compliance</th>\n",
       "      <th>enforcer</th>\n",
       "      <th>dist_index_high_est</th>\n",
       "      <th>dist_index_med_est</th>\n",
       "      <th>dist_index_low_est</th>\n",
       "      <th>dist_index_country_rank</th>\n",
       "      <th>link</th>\n",
       "      <th>date_updated</th>\n",
       "      <th>recorded_date</th>\n",
       "    </tr>\n",
       "  </thead>\n",
       "  <tbody>\n",
       "    <tr>\n",
       "      <th>0</th>\n",
       "      <td>R_DT9wJ6cfpACiXyVNA</td>\n",
       "      <td>1475054</td>\n",
       "      <td>new_entry</td>\n",
       "      <td>original</td>\n",
       "      <td>NaN</td>\n",
       "      <td>NaN</td>\n",
       "      <td>In Baden-Württemberg (Germany) the city of Stu...</td>\n",
       "      <td>2020-03-17</td>\n",
       "      <td>2020-03-17</td>\n",
       "      <td>2020-03-17</td>\n",
       "      <td>...</td>\n",
       "      <td>NaN</td>\n",
       "      <td>Mandatory (Unspecified/Implied)</td>\n",
       "      <td>Provincial/State Government</td>\n",
       "      <td>57.590903</td>\n",
       "      <td>54.734064</td>\n",
       "      <td>51.729718</td>\n",
       "      <td>102.0</td>\n",
       "      <td>https://www.stuttgarter-nachrichten.de/inhalt....</td>\n",
       "      <td>2020-08-22</td>\n",
       "      <td>2020-08-22T14:59:54Z</td>\n",
       "    </tr>\n",
       "    <tr>\n",
       "      <th>1</th>\n",
       "      <td>R_5p95bNFstNDs9UdNA</td>\n",
       "      <td>5717782</td>\n",
       "      <td>new_entry</td>\n",
       "      <td>original</td>\n",
       "      <td>NaN</td>\n",
       "      <td>NaN</td>\n",
       "      <td>Bremen (Germany) informs about fake news about...</td>\n",
       "      <td>2020-03-26</td>\n",
       "      <td>2020-03-26</td>\n",
       "      <td>2020-03-26</td>\n",
       "      <td>...</td>\n",
       "      <td>NaN</td>\n",
       "      <td>Mandatory (Unspecified/Implied)</td>\n",
       "      <td>Provincial/State Government</td>\n",
       "      <td>68.460588</td>\n",
       "      <td>65.451526</td>\n",
       "      <td>62.565660</td>\n",
       "      <td>90.0</td>\n",
       "      <td>https://www.bremen-innovativ.de/2020/03/fake-n...</td>\n",
       "      <td>2020-08-18</td>\n",
       "      <td>2020-08-18T06:45:40Z</td>\n",
       "    </tr>\n",
       "    <tr>\n",
       "      <th>2</th>\n",
       "      <td>R_2Qgl6LnVGJvdYioNA</td>\n",
       "      <td>6291168</td>\n",
       "      <td>new_entry</td>\n",
       "      <td>original</td>\n",
       "      <td>NaN</td>\n",
       "      <td>NaN</td>\n",
       "      <td>The Thuringia government introduces citizens t...</td>\n",
       "      <td>2020-03-30</td>\n",
       "      <td>2020-03-30</td>\n",
       "      <td>NaN</td>\n",
       "      <td>...</td>\n",
       "      <td>NaN</td>\n",
       "      <td>Voluntary/Recommended but No Penalties</td>\n",
       "      <td>Provincial/State Government</td>\n",
       "      <td>69.580439</td>\n",
       "      <td>66.680645</td>\n",
       "      <td>64.092800</td>\n",
       "      <td>80.0</td>\n",
       "      <td>https://corona.thueringen.de/buerger-soziales/...</td>\n",
       "      <td>2020-09-03</td>\n",
       "      <td>2020-09-03T13:35:20Z</td>\n",
       "    </tr>\n",
       "  </tbody>\n",
       "</table>\n",
       "<p>3 rows × 40 columns</p>\n",
       "</div>"
      ]
     },
     "metadata": {},
     "execution_count": 83
    }
   ],
   "metadata": {}
  },
  {
   "cell_type": "code",
   "execution_count": 84,
   "source": [
    "import gc\n",
    "gc.collect()\n",
    "del(dfs)"
   ],
   "outputs": [],
   "metadata": {}
  },
  {
   "cell_type": "code",
   "execution_count": 85,
   "source": [
    "df = big_frame[[\"description\", \"type\"]].drop_duplicates(subset=['description']).reset_index(drop=True)"
   ],
   "outputs": [],
   "metadata": {}
  },
  {
   "cell_type": "code",
   "execution_count": 86,
   "source": [
    "df"
   ],
   "outputs": [
    {
     "output_type": "execute_result",
     "data": {
      "text/plain": [
       "                                             description  \\\n",
       "0      In Baden-Württemberg (Germany) the city of Stu...   \n",
       "1      Bremen (Germany) informs about fake news about...   \n",
       "2      The Thuringia government introduces citizens t...   \n",
       "3      On 4 May, The NRW State Criminal Police Office...   \n",
       "4      Germany offers a website  with information aro...   \n",
       "...                                                  ...   \n",
       "22785  December 23, 2020: The Italian Region of Lomba...   \n",
       "22786  November 3, 2020: Through the DPCM signed on N...   \n",
       "22787  November 3, 2020: Through the DPCM signed on N...   \n",
       "22788  March 4, 2021: The Italian Region of Lombardy ...   \n",
       "22789  March 4, 2021: With Ordinanza N. 18, the Presi...   \n",
       "\n",
       "                               type  \n",
       "0      Anti-Disinformation Measures  \n",
       "1      Anti-Disinformation Measures  \n",
       "2      Anti-Disinformation Measures  \n",
       "3      Anti-Disinformation Measures  \n",
       "4      Anti-Disinformation Measures  \n",
       "...                             ...  \n",
       "22785             Social Distancing  \n",
       "22786             Social Distancing  \n",
       "22787             Social Distancing  \n",
       "22788             Social Distancing  \n",
       "22789             Social Distancing  \n",
       "\n",
       "[22790 rows x 2 columns]"
      ],
      "text/html": [
       "<div>\n",
       "<style scoped>\n",
       "    .dataframe tbody tr th:only-of-type {\n",
       "        vertical-align: middle;\n",
       "    }\n",
       "\n",
       "    .dataframe tbody tr th {\n",
       "        vertical-align: top;\n",
       "    }\n",
       "\n",
       "    .dataframe thead th {\n",
       "        text-align: right;\n",
       "    }\n",
       "</style>\n",
       "<table border=\"1\" class=\"dataframe\">\n",
       "  <thead>\n",
       "    <tr style=\"text-align: right;\">\n",
       "      <th></th>\n",
       "      <th>description</th>\n",
       "      <th>type</th>\n",
       "    </tr>\n",
       "  </thead>\n",
       "  <tbody>\n",
       "    <tr>\n",
       "      <th>0</th>\n",
       "      <td>In Baden-Württemberg (Germany) the city of Stu...</td>\n",
       "      <td>Anti-Disinformation Measures</td>\n",
       "    </tr>\n",
       "    <tr>\n",
       "      <th>1</th>\n",
       "      <td>Bremen (Germany) informs about fake news about...</td>\n",
       "      <td>Anti-Disinformation Measures</td>\n",
       "    </tr>\n",
       "    <tr>\n",
       "      <th>2</th>\n",
       "      <td>The Thuringia government introduces citizens t...</td>\n",
       "      <td>Anti-Disinformation Measures</td>\n",
       "    </tr>\n",
       "    <tr>\n",
       "      <th>3</th>\n",
       "      <td>On 4 May, The NRW State Criminal Police Office...</td>\n",
       "      <td>Anti-Disinformation Measures</td>\n",
       "    </tr>\n",
       "    <tr>\n",
       "      <th>4</th>\n",
       "      <td>Germany offers a website  with information aro...</td>\n",
       "      <td>Anti-Disinformation Measures</td>\n",
       "    </tr>\n",
       "    <tr>\n",
       "      <th>...</th>\n",
       "      <td>...</td>\n",
       "      <td>...</td>\n",
       "    </tr>\n",
       "    <tr>\n",
       "      <th>22785</th>\n",
       "      <td>December 23, 2020: The Italian Region of Lomba...</td>\n",
       "      <td>Social Distancing</td>\n",
       "    </tr>\n",
       "    <tr>\n",
       "      <th>22786</th>\n",
       "      <td>November 3, 2020: Through the DPCM signed on N...</td>\n",
       "      <td>Social Distancing</td>\n",
       "    </tr>\n",
       "    <tr>\n",
       "      <th>22787</th>\n",
       "      <td>November 3, 2020: Through the DPCM signed on N...</td>\n",
       "      <td>Social Distancing</td>\n",
       "    </tr>\n",
       "    <tr>\n",
       "      <th>22788</th>\n",
       "      <td>March 4, 2021: The Italian Region of Lombardy ...</td>\n",
       "      <td>Social Distancing</td>\n",
       "    </tr>\n",
       "    <tr>\n",
       "      <th>22789</th>\n",
       "      <td>March 4, 2021: With Ordinanza N. 18, the Presi...</td>\n",
       "      <td>Social Distancing</td>\n",
       "    </tr>\n",
       "  </tbody>\n",
       "</table>\n",
       "<p>22790 rows × 2 columns</p>\n",
       "</div>"
      ]
     },
     "metadata": {},
     "execution_count": 86
    }
   ],
   "metadata": {}
  },
  {
   "cell_type": "code",
   "execution_count": 87,
   "source": [
    "df['type'].value_counts()"
   ],
   "outputs": [
    {
     "output_type": "execute_result",
     "data": {
      "text/plain": [
       "Restriction and Regulation of Businesses                  3851\n",
       "Health Resources                                          2528\n",
       "Restrictions of Mass Gatherings                           1939\n",
       "Restriction and Regulation of Government Services         1649\n",
       "Closure and Regulation of Schools                         1566\n",
       "Quarantine                                                1373\n",
       "Lockdown                                                  1317\n",
       "Social Distancing                                         1261\n",
       "Public Awareness Measures                                 1211\n",
       "Other Policy Not Listed Above                              962\n",
       "External Border Restrictions                               790\n",
       "Internal Border Restrictions                               731\n",
       "Health Testing                                             710\n",
       "New Task Force, Bureau or Administrative Configuration     694\n",
       "Declaration of Emergency                                   627\n",
       "Health Monitoring                                          590\n",
       "Hygiene                                                    533\n",
       "Curfew                                                     215\n",
       "Anti-Disinformation Measures                               123\n",
       "COVID-19 Vaccines                                          120\n",
       "Name: type, dtype: int64"
      ]
     },
     "metadata": {},
     "execution_count": 87
    }
   ],
   "metadata": {}
  },
  {
   "cell_type": "markdown",
   "source": [
    "## 2. Preprocess text data"
   ],
   "metadata": {}
  },
  {
   "cell_type": "code",
   "execution_count": 88,
   "source": [
    "# Special characters and punctuation\n",
    "punc_list = list(\"?:!.,;()\")\n",
    "df[\"description_1\"] = df[\"description\"].str.replace(\"\\n\", \" \")\n",
    "df[\"description_1\"] = df[\"description_1\"].str.replace('\"', \" \")\n",
    "df[\"description_1\"] = df[\"description_1\"].str.replace(\"'s\", \" \")\n",
    "for punc in punc_list:\n",
    "    df[\"description_1\"] = df[\"description_1\"].str.replace(punc, \" \")\n",
    "    \n",
    "#lowering cases\n",
    "df[\"description_1\"] = df[\"description_1\"].str.lower()"
   ],
   "outputs": [],
   "metadata": {}
  },
  {
   "cell_type": "code",
   "execution_count": 89,
   "source": [
    "df"
   ],
   "outputs": [
    {
     "output_type": "execute_result",
     "data": {
      "text/plain": [
       "                                             description  \\\n",
       "0      In Baden-Württemberg (Germany) the city of Stu...   \n",
       "1      Bremen (Germany) informs about fake news about...   \n",
       "2      The Thuringia government introduces citizens t...   \n",
       "3      On 4 May, The NRW State Criminal Police Office...   \n",
       "4      Germany offers a website  with information aro...   \n",
       "...                                                  ...   \n",
       "22785  December 23, 2020: The Italian Region of Lomba...   \n",
       "22786  November 3, 2020: Through the DPCM signed on N...   \n",
       "22787  November 3, 2020: Through the DPCM signed on N...   \n",
       "22788  March 4, 2021: The Italian Region of Lombardy ...   \n",
       "22789  March 4, 2021: With Ordinanza N. 18, the Presi...   \n",
       "\n",
       "                               type  \\\n",
       "0      Anti-Disinformation Measures   \n",
       "1      Anti-Disinformation Measures   \n",
       "2      Anti-Disinformation Measures   \n",
       "3      Anti-Disinformation Measures   \n",
       "4      Anti-Disinformation Measures   \n",
       "...                             ...   \n",
       "22785             Social Distancing   \n",
       "22786             Social Distancing   \n",
       "22787             Social Distancing   \n",
       "22788             Social Distancing   \n",
       "22789             Social Distancing   \n",
       "\n",
       "                                           description_1  \n",
       "0      in baden-württemberg  germany  the city of stu...  \n",
       "1      bremen  germany  informs about fake news about...  \n",
       "2      the thuringia government introduces citizens t...  \n",
       "3      on 4 may  the nrw state criminal police office...  \n",
       "4      germany offers a website  with information aro...  \n",
       "...                                                  ...  \n",
       "22785  december 23  2020  the italian region of lomba...  \n",
       "22786  november 3  2020  through the dpcm signed on n...  \n",
       "22787  november 3  2020  through the dpcm signed on n...  \n",
       "22788  march 4  2021  the italian region of lombardy ...  \n",
       "22789  march 4  2021  with ordinanza n  18  the presi...  \n",
       "\n",
       "[22790 rows x 3 columns]"
      ],
      "text/html": [
       "<div>\n",
       "<style scoped>\n",
       "    .dataframe tbody tr th:only-of-type {\n",
       "        vertical-align: middle;\n",
       "    }\n",
       "\n",
       "    .dataframe tbody tr th {\n",
       "        vertical-align: top;\n",
       "    }\n",
       "\n",
       "    .dataframe thead th {\n",
       "        text-align: right;\n",
       "    }\n",
       "</style>\n",
       "<table border=\"1\" class=\"dataframe\">\n",
       "  <thead>\n",
       "    <tr style=\"text-align: right;\">\n",
       "      <th></th>\n",
       "      <th>description</th>\n",
       "      <th>type</th>\n",
       "      <th>description_1</th>\n",
       "    </tr>\n",
       "  </thead>\n",
       "  <tbody>\n",
       "    <tr>\n",
       "      <th>0</th>\n",
       "      <td>In Baden-Württemberg (Germany) the city of Stu...</td>\n",
       "      <td>Anti-Disinformation Measures</td>\n",
       "      <td>in baden-württemberg  germany  the city of stu...</td>\n",
       "    </tr>\n",
       "    <tr>\n",
       "      <th>1</th>\n",
       "      <td>Bremen (Germany) informs about fake news about...</td>\n",
       "      <td>Anti-Disinformation Measures</td>\n",
       "      <td>bremen  germany  informs about fake news about...</td>\n",
       "    </tr>\n",
       "    <tr>\n",
       "      <th>2</th>\n",
       "      <td>The Thuringia government introduces citizens t...</td>\n",
       "      <td>Anti-Disinformation Measures</td>\n",
       "      <td>the thuringia government introduces citizens t...</td>\n",
       "    </tr>\n",
       "    <tr>\n",
       "      <th>3</th>\n",
       "      <td>On 4 May, The NRW State Criminal Police Office...</td>\n",
       "      <td>Anti-Disinformation Measures</td>\n",
       "      <td>on 4 may  the nrw state criminal police office...</td>\n",
       "    </tr>\n",
       "    <tr>\n",
       "      <th>4</th>\n",
       "      <td>Germany offers a website  with information aro...</td>\n",
       "      <td>Anti-Disinformation Measures</td>\n",
       "      <td>germany offers a website  with information aro...</td>\n",
       "    </tr>\n",
       "    <tr>\n",
       "      <th>...</th>\n",
       "      <td>...</td>\n",
       "      <td>...</td>\n",
       "      <td>...</td>\n",
       "    </tr>\n",
       "    <tr>\n",
       "      <th>22785</th>\n",
       "      <td>December 23, 2020: The Italian Region of Lomba...</td>\n",
       "      <td>Social Distancing</td>\n",
       "      <td>december 23  2020  the italian region of lomba...</td>\n",
       "    </tr>\n",
       "    <tr>\n",
       "      <th>22786</th>\n",
       "      <td>November 3, 2020: Through the DPCM signed on N...</td>\n",
       "      <td>Social Distancing</td>\n",
       "      <td>november 3  2020  through the dpcm signed on n...</td>\n",
       "    </tr>\n",
       "    <tr>\n",
       "      <th>22787</th>\n",
       "      <td>November 3, 2020: Through the DPCM signed on N...</td>\n",
       "      <td>Social Distancing</td>\n",
       "      <td>november 3  2020  through the dpcm signed on n...</td>\n",
       "    </tr>\n",
       "    <tr>\n",
       "      <th>22788</th>\n",
       "      <td>March 4, 2021: The Italian Region of Lombardy ...</td>\n",
       "      <td>Social Distancing</td>\n",
       "      <td>march 4  2021  the italian region of lombardy ...</td>\n",
       "    </tr>\n",
       "    <tr>\n",
       "      <th>22789</th>\n",
       "      <td>March 4, 2021: With Ordinanza N. 18, the Presi...</td>\n",
       "      <td>Social Distancing</td>\n",
       "      <td>march 4  2021  with ordinanza n  18  the presi...</td>\n",
       "    </tr>\n",
       "  </tbody>\n",
       "</table>\n",
       "<p>22790 rows × 3 columns</p>\n",
       "</div>"
      ]
     },
     "metadata": {},
     "execution_count": 89
    }
   ],
   "metadata": {}
  },
  {
   "cell_type": "code",
   "execution_count": 90,
   "source": [
    "#stemming and lemmatization\n",
    "nltk.download('punkt')\n",
    "nltk.download('wordnet')\n",
    "\n",
    "wordnet_lemmatizer = WordNetLemmatizer()\n",
    "nrows = len(df)\n",
    "lemmatized_text_list = []\n",
    "\n",
    "for row in range(0, nrows):\n",
    "    \n",
    "    # Create an empty list containing lemmatized words\n",
    "    lemmatized_list = []\n",
    "    \n",
    "    # Save the text and its words into an object\n",
    "    text = df.loc[row]['description_1']\n",
    "    text_words = text.split(\" \")\n",
    "\n",
    "    # Iterate through every word to lemmatize\n",
    "    for word in text_words:\n",
    "        lemmatized_list.append(wordnet_lemmatizer.lemmatize(word, pos=\"v\"))\n",
    "        \n",
    "    # Join the list\n",
    "    lemmatized_text = \" \".join(lemmatized_list)\n",
    "    \n",
    "    # Append to the list containing the texts\n",
    "    lemmatized_text_list.append(lemmatized_text)\n"
   ],
   "outputs": [
    {
     "output_type": "stream",
     "name": "stderr",
     "text": [
      "[nltk_data] Downloading package punkt to\n",
      "[nltk_data]     /Users/irenechang/nltk_data...\n",
      "[nltk_data]   Package punkt is already up-to-date!\n",
      "[nltk_data] Downloading package wordnet to\n",
      "[nltk_data]     /Users/irenechang/nltk_data...\n",
      "[nltk_data]   Package wordnet is already up-to-date!\n"
     ]
    }
   ],
   "metadata": {}
  },
  {
   "cell_type": "code",
   "execution_count": 91,
   "source": [
    "#stopwords\n",
    "nltk.download('stopwords')\n",
    "stop_words = list(stopwords.words('english'))\n",
    "\n",
    "# include country names in stopwords\n",
    "country_text = []\n",
    "for text in df[\"description_1\"].tolist():\n",
    "    for c in pycountry.countries:\n",
    "        if c.name.lower() in text:\n",
    "            text = re.sub(c.name.lower(), '', text)\n",
    "    country_text.append(text)\n",
    "\n",
    "df[\"description_2\"] = country_text\n",
    "\n",
    "for stop_word in stop_words:\n",
    "\n",
    "    regex_stopword = r\"\\b\" + stop_word + r\"\\b\"\n",
    "    df['description_2'] = df['description_2'].str.replace(regex_stopword, '')"
   ],
   "outputs": [
    {
     "output_type": "stream",
     "name": "stderr",
     "text": [
      "[nltk_data] Downloading package stopwords to\n",
      "[nltk_data]     /Users/irenechang/nltk_data...\n",
      "[nltk_data]   Package stopwords is already up-to-date!\n"
     ]
    }
   ],
   "metadata": {}
  },
  {
   "cell_type": "code",
   "execution_count": 92,
   "source": [
    "#remove numbers\n",
    "pattern = r'[0-9]'\n",
    "remove_number = []\n",
    "for text in df[\"description_2\"].tolist():\n",
    "    remove_number.append(re.sub(pattern, '', text))\n",
    "    \n",
    "df[\"description_3\"] = remove_number\n",
    "df"
   ],
   "outputs": [
    {
     "output_type": "execute_result",
     "data": {
      "text/plain": [
       "                                             description  \\\n",
       "0      In Baden-Württemberg (Germany) the city of Stu...   \n",
       "1      Bremen (Germany) informs about fake news about...   \n",
       "2      The Thuringia government introduces citizens t...   \n",
       "3      On 4 May, The NRW State Criminal Police Office...   \n",
       "4      Germany offers a website  with information aro...   \n",
       "...                                                  ...   \n",
       "22785  December 23, 2020: The Italian Region of Lomba...   \n",
       "22786  November 3, 2020: Through the DPCM signed on N...   \n",
       "22787  November 3, 2020: Through the DPCM signed on N...   \n",
       "22788  March 4, 2021: The Italian Region of Lombardy ...   \n",
       "22789  March 4, 2021: With Ordinanza N. 18, the Presi...   \n",
       "\n",
       "                               type  \\\n",
       "0      Anti-Disinformation Measures   \n",
       "1      Anti-Disinformation Measures   \n",
       "2      Anti-Disinformation Measures   \n",
       "3      Anti-Disinformation Measures   \n",
       "4      Anti-Disinformation Measures   \n",
       "...                             ...   \n",
       "22785             Social Distancing   \n",
       "22786             Social Distancing   \n",
       "22787             Social Distancing   \n",
       "22788             Social Distancing   \n",
       "22789             Social Distancing   \n",
       "\n",
       "                                           description_1  \\\n",
       "0      in baden-württemberg  germany  the city of stu...   \n",
       "1      bremen  germany  informs about fake news about...   \n",
       "2      the thuringia government introduces citizens t...   \n",
       "3      on 4 may  the nrw state criminal police office...   \n",
       "4      germany offers a website  with information aro...   \n",
       "...                                                  ...   \n",
       "22785  december 23  2020  the italian region of lomba...   \n",
       "22786  november 3  2020  through the dpcm signed on n...   \n",
       "22787  november 3  2020  through the dpcm signed on n...   \n",
       "22788  march 4  2021  the italian region of lombardy ...   \n",
       "22789  march 4  2021  with ordinanza n  18  the presi...   \n",
       "\n",
       "                                           description_2  \\\n",
       "0       baden-württemberg     city  stuttgart warns  ...   \n",
       "1      bremen    informs  fake news  covid-19  march 26    \n",
       "2       thuringia government introduces citizens   ov...   \n",
       "3       4 may   nrw state criminal police office  lka...   \n",
       "4       offers  website   information around fake new...   \n",
       "...                                                  ...   \n",
       "22785  december 23  2020   italian region  lombardy i...   \n",
       "22786  november 3  2020    dpcm signed  november 3  2...   \n",
       "22787  november 3  2020    dpcm signed  november 3  2...   \n",
       "22788  march 4  2021   italian region  lombardy issue...   \n",
       "22789  march 4  2021   ordinanza n  18   president   ...   \n",
       "\n",
       "                                           description_3  \n",
       "0       baden-württemberg     city  stuttgart warns  ...  \n",
       "1          bremen    informs  fake news  covid-  march    \n",
       "2       thuringia government introduces citizens   ov...  \n",
       "3        may   nrw state criminal police office  lka ...  \n",
       "4       offers  website   information around fake new...  \n",
       "...                                                  ...  \n",
       "22785  december      italian region  lombardy issues ...  \n",
       "22786  november       dpcm signed  november      ital...  \n",
       "22787  november       dpcm signed  november      ital...  \n",
       "22788  march      italian region  lombardy issues ord...  \n",
       "22789  march      ordinanza n     president   italian...  \n",
       "\n",
       "[22790 rows x 5 columns]"
      ],
      "text/html": [
       "<div>\n",
       "<style scoped>\n",
       "    .dataframe tbody tr th:only-of-type {\n",
       "        vertical-align: middle;\n",
       "    }\n",
       "\n",
       "    .dataframe tbody tr th {\n",
       "        vertical-align: top;\n",
       "    }\n",
       "\n",
       "    .dataframe thead th {\n",
       "        text-align: right;\n",
       "    }\n",
       "</style>\n",
       "<table border=\"1\" class=\"dataframe\">\n",
       "  <thead>\n",
       "    <tr style=\"text-align: right;\">\n",
       "      <th></th>\n",
       "      <th>description</th>\n",
       "      <th>type</th>\n",
       "      <th>description_1</th>\n",
       "      <th>description_2</th>\n",
       "      <th>description_3</th>\n",
       "    </tr>\n",
       "  </thead>\n",
       "  <tbody>\n",
       "    <tr>\n",
       "      <th>0</th>\n",
       "      <td>In Baden-Württemberg (Germany) the city of Stu...</td>\n",
       "      <td>Anti-Disinformation Measures</td>\n",
       "      <td>in baden-württemberg  germany  the city of stu...</td>\n",
       "      <td>baden-württemberg     city  stuttgart warns  ...</td>\n",
       "      <td>baden-württemberg     city  stuttgart warns  ...</td>\n",
       "    </tr>\n",
       "    <tr>\n",
       "      <th>1</th>\n",
       "      <td>Bremen (Germany) informs about fake news about...</td>\n",
       "      <td>Anti-Disinformation Measures</td>\n",
       "      <td>bremen  germany  informs about fake news about...</td>\n",
       "      <td>bremen    informs  fake news  covid-19  march 26</td>\n",
       "      <td>bremen    informs  fake news  covid-  march</td>\n",
       "    </tr>\n",
       "    <tr>\n",
       "      <th>2</th>\n",
       "      <td>The Thuringia government introduces citizens t...</td>\n",
       "      <td>Anti-Disinformation Measures</td>\n",
       "      <td>the thuringia government introduces citizens t...</td>\n",
       "      <td>thuringia government introduces citizens   ov...</td>\n",
       "      <td>thuringia government introduces citizens   ov...</td>\n",
       "    </tr>\n",
       "    <tr>\n",
       "      <th>3</th>\n",
       "      <td>On 4 May, The NRW State Criminal Police Office...</td>\n",
       "      <td>Anti-Disinformation Measures</td>\n",
       "      <td>on 4 may  the nrw state criminal police office...</td>\n",
       "      <td>4 may   nrw state criminal police office  lka...</td>\n",
       "      <td>may   nrw state criminal police office  lka ...</td>\n",
       "    </tr>\n",
       "    <tr>\n",
       "      <th>4</th>\n",
       "      <td>Germany offers a website  with information aro...</td>\n",
       "      <td>Anti-Disinformation Measures</td>\n",
       "      <td>germany offers a website  with information aro...</td>\n",
       "      <td>offers  website   information around fake new...</td>\n",
       "      <td>offers  website   information around fake new...</td>\n",
       "    </tr>\n",
       "    <tr>\n",
       "      <th>...</th>\n",
       "      <td>...</td>\n",
       "      <td>...</td>\n",
       "      <td>...</td>\n",
       "      <td>...</td>\n",
       "      <td>...</td>\n",
       "    </tr>\n",
       "    <tr>\n",
       "      <th>22785</th>\n",
       "      <td>December 23, 2020: The Italian Region of Lomba...</td>\n",
       "      <td>Social Distancing</td>\n",
       "      <td>december 23  2020  the italian region of lomba...</td>\n",
       "      <td>december 23  2020   italian region  lombardy i...</td>\n",
       "      <td>december      italian region  lombardy issues ...</td>\n",
       "    </tr>\n",
       "    <tr>\n",
       "      <th>22786</th>\n",
       "      <td>November 3, 2020: Through the DPCM signed on N...</td>\n",
       "      <td>Social Distancing</td>\n",
       "      <td>november 3  2020  through the dpcm signed on n...</td>\n",
       "      <td>november 3  2020    dpcm signed  november 3  2...</td>\n",
       "      <td>november       dpcm signed  november      ital...</td>\n",
       "    </tr>\n",
       "    <tr>\n",
       "      <th>22787</th>\n",
       "      <td>November 3, 2020: Through the DPCM signed on N...</td>\n",
       "      <td>Social Distancing</td>\n",
       "      <td>november 3  2020  through the dpcm signed on n...</td>\n",
       "      <td>november 3  2020    dpcm signed  november 3  2...</td>\n",
       "      <td>november       dpcm signed  november      ital...</td>\n",
       "    </tr>\n",
       "    <tr>\n",
       "      <th>22788</th>\n",
       "      <td>March 4, 2021: The Italian Region of Lombardy ...</td>\n",
       "      <td>Social Distancing</td>\n",
       "      <td>march 4  2021  the italian region of lombardy ...</td>\n",
       "      <td>march 4  2021   italian region  lombardy issue...</td>\n",
       "      <td>march      italian region  lombardy issues ord...</td>\n",
       "    </tr>\n",
       "    <tr>\n",
       "      <th>22789</th>\n",
       "      <td>March 4, 2021: With Ordinanza N. 18, the Presi...</td>\n",
       "      <td>Social Distancing</td>\n",
       "      <td>march 4  2021  with ordinanza n  18  the presi...</td>\n",
       "      <td>march 4  2021   ordinanza n  18   president   ...</td>\n",
       "      <td>march      ordinanza n     president   italian...</td>\n",
       "    </tr>\n",
       "  </tbody>\n",
       "</table>\n",
       "<p>22790 rows × 5 columns</p>\n",
       "</div>"
      ]
     },
     "metadata": {},
     "execution_count": 92
    }
   ],
   "metadata": {}
  },
  {
   "cell_type": "code",
   "execution_count": 93,
   "source": [
    "list_columns = [\"description_3\", \"type\"]\n",
    "df2 = df[list_columns]\n",
    "\n",
    "df2 = df2.rename(columns={'description_3': 'description'})"
   ],
   "outputs": [],
   "metadata": {}
  },
  {
   "cell_type": "code",
   "execution_count": 94,
   "source": [
    "df2"
   ],
   "outputs": [
    {
     "output_type": "execute_result",
     "data": {
      "text/plain": [
       "                                             description  \\\n",
       "0       baden-württemberg     city  stuttgart warns  ...   \n",
       "1          bremen    informs  fake news  covid-  march     \n",
       "2       thuringia government introduces citizens   ov...   \n",
       "3        may   nrw state criminal police office  lka ...   \n",
       "4       offers  website   information around fake new...   \n",
       "...                                                  ...   \n",
       "22785  december      italian region  lombardy issues ...   \n",
       "22786  november       dpcm signed  november      ital...   \n",
       "22787  november       dpcm signed  november      ital...   \n",
       "22788  march      italian region  lombardy issues ord...   \n",
       "22789  march      ordinanza n     president   italian...   \n",
       "\n",
       "                               type  \n",
       "0      Anti-Disinformation Measures  \n",
       "1      Anti-Disinformation Measures  \n",
       "2      Anti-Disinformation Measures  \n",
       "3      Anti-Disinformation Measures  \n",
       "4      Anti-Disinformation Measures  \n",
       "...                             ...  \n",
       "22785             Social Distancing  \n",
       "22786             Social Distancing  \n",
       "22787             Social Distancing  \n",
       "22788             Social Distancing  \n",
       "22789             Social Distancing  \n",
       "\n",
       "[22790 rows x 2 columns]"
      ],
      "text/html": [
       "<div>\n",
       "<style scoped>\n",
       "    .dataframe tbody tr th:only-of-type {\n",
       "        vertical-align: middle;\n",
       "    }\n",
       "\n",
       "    .dataframe tbody tr th {\n",
       "        vertical-align: top;\n",
       "    }\n",
       "\n",
       "    .dataframe thead th {\n",
       "        text-align: right;\n",
       "    }\n",
       "</style>\n",
       "<table border=\"1\" class=\"dataframe\">\n",
       "  <thead>\n",
       "    <tr style=\"text-align: right;\">\n",
       "      <th></th>\n",
       "      <th>description</th>\n",
       "      <th>type</th>\n",
       "    </tr>\n",
       "  </thead>\n",
       "  <tbody>\n",
       "    <tr>\n",
       "      <th>0</th>\n",
       "      <td>baden-württemberg     city  stuttgart warns  ...</td>\n",
       "      <td>Anti-Disinformation Measures</td>\n",
       "    </tr>\n",
       "    <tr>\n",
       "      <th>1</th>\n",
       "      <td>bremen    informs  fake news  covid-  march</td>\n",
       "      <td>Anti-Disinformation Measures</td>\n",
       "    </tr>\n",
       "    <tr>\n",
       "      <th>2</th>\n",
       "      <td>thuringia government introduces citizens   ov...</td>\n",
       "      <td>Anti-Disinformation Measures</td>\n",
       "    </tr>\n",
       "    <tr>\n",
       "      <th>3</th>\n",
       "      <td>may   nrw state criminal police office  lka ...</td>\n",
       "      <td>Anti-Disinformation Measures</td>\n",
       "    </tr>\n",
       "    <tr>\n",
       "      <th>4</th>\n",
       "      <td>offers  website   information around fake new...</td>\n",
       "      <td>Anti-Disinformation Measures</td>\n",
       "    </tr>\n",
       "    <tr>\n",
       "      <th>...</th>\n",
       "      <td>...</td>\n",
       "      <td>...</td>\n",
       "    </tr>\n",
       "    <tr>\n",
       "      <th>22785</th>\n",
       "      <td>december      italian region  lombardy issues ...</td>\n",
       "      <td>Social Distancing</td>\n",
       "    </tr>\n",
       "    <tr>\n",
       "      <th>22786</th>\n",
       "      <td>november       dpcm signed  november      ital...</td>\n",
       "      <td>Social Distancing</td>\n",
       "    </tr>\n",
       "    <tr>\n",
       "      <th>22787</th>\n",
       "      <td>november       dpcm signed  november      ital...</td>\n",
       "      <td>Social Distancing</td>\n",
       "    </tr>\n",
       "    <tr>\n",
       "      <th>22788</th>\n",
       "      <td>march      italian region  lombardy issues ord...</td>\n",
       "      <td>Social Distancing</td>\n",
       "    </tr>\n",
       "    <tr>\n",
       "      <th>22789</th>\n",
       "      <td>march      ordinanza n     president   italian...</td>\n",
       "      <td>Social Distancing</td>\n",
       "    </tr>\n",
       "  </tbody>\n",
       "</table>\n",
       "<p>22790 rows × 2 columns</p>\n",
       "</div>"
      ]
     },
     "metadata": {},
     "execution_count": 94
    }
   ],
   "metadata": {}
  },
  {
   "cell_type": "markdown",
   "source": [
    "#### Label encoding"
   ],
   "metadata": {}
  },
  {
   "cell_type": "code",
   "execution_count": 95,
   "source": [
    "category_codes = {\n",
    "    'Anti-Disinformation Measures': 0,\n",
    "    'Hygiene': 1,\n",
    "    'Curfew': 2,\n",
    "    'Closure and Regulation of Schools': 3,\n",
    "    'Declaration of Emergency': 4,\n",
    "    'External Border Restrictions': 5,\n",
    "    'Health Monitoring': 6,\n",
    "    'Health Resources': 7,\n",
    "    'Health Testing': 8,\n",
    "    'Internal Border Restrictions': 9,\n",
    "    'Lockdown': 10,\n",
    "    'New Task Force, Bureau or Administrative Configuration': 11,\n",
    "    'COVID-19 Vaccines': 12,\n",
    "    'Public Awareness Measures': 13,\n",
    "    'Quarantine': 14,\n",
    "    'Restriction and Regulation of Businesses': 15,\n",
    "    'Restriction and Regulation of Government Services': 16,\n",
    "    'Restrictions of Mass Gatherings':17,\n",
    "    'Social Distancing':18\n",
    "}\n",
    "\n",
    "# Category mapping\n",
    "df2['type_code'] = df2['type']\n",
    "df2 = df2.replace({'type_code':category_codes})\n",
    "\n",
    "df2.head()"
   ],
   "outputs": [
    {
     "output_type": "execute_result",
     "data": {
      "text/plain": [
       "                                         description  \\\n",
       "0   baden-württemberg     city  stuttgart warns  ...   \n",
       "1      bremen    informs  fake news  covid-  march     \n",
       "2   thuringia government introduces citizens   ov...   \n",
       "3    may   nrw state criminal police office  lka ...   \n",
       "4   offers  website   information around fake new...   \n",
       "\n",
       "                           type type_code  \n",
       "0  Anti-Disinformation Measures         0  \n",
       "1  Anti-Disinformation Measures         0  \n",
       "2  Anti-Disinformation Measures         0  \n",
       "3  Anti-Disinformation Measures         0  \n",
       "4  Anti-Disinformation Measures         0  "
      ],
      "text/html": [
       "<div>\n",
       "<style scoped>\n",
       "    .dataframe tbody tr th:only-of-type {\n",
       "        vertical-align: middle;\n",
       "    }\n",
       "\n",
       "    .dataframe tbody tr th {\n",
       "        vertical-align: top;\n",
       "    }\n",
       "\n",
       "    .dataframe thead th {\n",
       "        text-align: right;\n",
       "    }\n",
       "</style>\n",
       "<table border=\"1\" class=\"dataframe\">\n",
       "  <thead>\n",
       "    <tr style=\"text-align: right;\">\n",
       "      <th></th>\n",
       "      <th>description</th>\n",
       "      <th>type</th>\n",
       "      <th>type_code</th>\n",
       "    </tr>\n",
       "  </thead>\n",
       "  <tbody>\n",
       "    <tr>\n",
       "      <th>0</th>\n",
       "      <td>baden-württemberg     city  stuttgart warns  ...</td>\n",
       "      <td>Anti-Disinformation Measures</td>\n",
       "      <td>0</td>\n",
       "    </tr>\n",
       "    <tr>\n",
       "      <th>1</th>\n",
       "      <td>bremen    informs  fake news  covid-  march</td>\n",
       "      <td>Anti-Disinformation Measures</td>\n",
       "      <td>0</td>\n",
       "    </tr>\n",
       "    <tr>\n",
       "      <th>2</th>\n",
       "      <td>thuringia government introduces citizens   ov...</td>\n",
       "      <td>Anti-Disinformation Measures</td>\n",
       "      <td>0</td>\n",
       "    </tr>\n",
       "    <tr>\n",
       "      <th>3</th>\n",
       "      <td>may   nrw state criminal police office  lka ...</td>\n",
       "      <td>Anti-Disinformation Measures</td>\n",
       "      <td>0</td>\n",
       "    </tr>\n",
       "    <tr>\n",
       "      <th>4</th>\n",
       "      <td>offers  website   information around fake new...</td>\n",
       "      <td>Anti-Disinformation Measures</td>\n",
       "      <td>0</td>\n",
       "    </tr>\n",
       "  </tbody>\n",
       "</table>\n",
       "</div>"
      ]
     },
     "metadata": {},
     "execution_count": 95
    }
   ],
   "metadata": {}
  },
  {
   "cell_type": "markdown",
   "source": [
    "#### Split train-test sets"
   ],
   "metadata": {}
  },
  {
   "cell_type": "code",
   "execution_count": 96,
   "source": [
    "# imbalanced -- have to assign class weights\n",
    "df2['type'].value_counts()\n",
    "\n",
    "# split train - test\n",
    "X_train, X_test, y_train, y_test = train_test_split(df2['description'], \n",
    "                                                    df2['type'], \n",
    "                                                    test_size=0.15, \n",
    "                                                    random_state=8)"
   ],
   "outputs": [],
   "metadata": {}
  },
  {
   "cell_type": "code",
   "execution_count": 97,
   "source": [
    "df2"
   ],
   "outputs": [
    {
     "output_type": "execute_result",
     "data": {
      "text/plain": [
       "                                             description  \\\n",
       "0       baden-württemberg     city  stuttgart warns  ...   \n",
       "1          bremen    informs  fake news  covid-  march     \n",
       "2       thuringia government introduces citizens   ov...   \n",
       "3        may   nrw state criminal police office  lka ...   \n",
       "4       offers  website   information around fake new...   \n",
       "...                                                  ...   \n",
       "22785  december      italian region  lombardy issues ...   \n",
       "22786  november       dpcm signed  november      ital...   \n",
       "22787  november       dpcm signed  november      ital...   \n",
       "22788  march      italian region  lombardy issues ord...   \n",
       "22789  march      ordinanza n     president   italian...   \n",
       "\n",
       "                               type type_code  \n",
       "0      Anti-Disinformation Measures         0  \n",
       "1      Anti-Disinformation Measures         0  \n",
       "2      Anti-Disinformation Measures         0  \n",
       "3      Anti-Disinformation Measures         0  \n",
       "4      Anti-Disinformation Measures         0  \n",
       "...                             ...       ...  \n",
       "22785             Social Distancing        18  \n",
       "22786             Social Distancing        18  \n",
       "22787             Social Distancing        18  \n",
       "22788             Social Distancing        18  \n",
       "22789             Social Distancing        18  \n",
       "\n",
       "[22790 rows x 3 columns]"
      ],
      "text/html": [
       "<div>\n",
       "<style scoped>\n",
       "    .dataframe tbody tr th:only-of-type {\n",
       "        vertical-align: middle;\n",
       "    }\n",
       "\n",
       "    .dataframe tbody tr th {\n",
       "        vertical-align: top;\n",
       "    }\n",
       "\n",
       "    .dataframe thead th {\n",
       "        text-align: right;\n",
       "    }\n",
       "</style>\n",
       "<table border=\"1\" class=\"dataframe\">\n",
       "  <thead>\n",
       "    <tr style=\"text-align: right;\">\n",
       "      <th></th>\n",
       "      <th>description</th>\n",
       "      <th>type</th>\n",
       "      <th>type_code</th>\n",
       "    </tr>\n",
       "  </thead>\n",
       "  <tbody>\n",
       "    <tr>\n",
       "      <th>0</th>\n",
       "      <td>baden-württemberg     city  stuttgart warns  ...</td>\n",
       "      <td>Anti-Disinformation Measures</td>\n",
       "      <td>0</td>\n",
       "    </tr>\n",
       "    <tr>\n",
       "      <th>1</th>\n",
       "      <td>bremen    informs  fake news  covid-  march</td>\n",
       "      <td>Anti-Disinformation Measures</td>\n",
       "      <td>0</td>\n",
       "    </tr>\n",
       "    <tr>\n",
       "      <th>2</th>\n",
       "      <td>thuringia government introduces citizens   ov...</td>\n",
       "      <td>Anti-Disinformation Measures</td>\n",
       "      <td>0</td>\n",
       "    </tr>\n",
       "    <tr>\n",
       "      <th>3</th>\n",
       "      <td>may   nrw state criminal police office  lka ...</td>\n",
       "      <td>Anti-Disinformation Measures</td>\n",
       "      <td>0</td>\n",
       "    </tr>\n",
       "    <tr>\n",
       "      <th>4</th>\n",
       "      <td>offers  website   information around fake new...</td>\n",
       "      <td>Anti-Disinformation Measures</td>\n",
       "      <td>0</td>\n",
       "    </tr>\n",
       "    <tr>\n",
       "      <th>...</th>\n",
       "      <td>...</td>\n",
       "      <td>...</td>\n",
       "      <td>...</td>\n",
       "    </tr>\n",
       "    <tr>\n",
       "      <th>22785</th>\n",
       "      <td>december      italian region  lombardy issues ...</td>\n",
       "      <td>Social Distancing</td>\n",
       "      <td>18</td>\n",
       "    </tr>\n",
       "    <tr>\n",
       "      <th>22786</th>\n",
       "      <td>november       dpcm signed  november      ital...</td>\n",
       "      <td>Social Distancing</td>\n",
       "      <td>18</td>\n",
       "    </tr>\n",
       "    <tr>\n",
       "      <th>22787</th>\n",
       "      <td>november       dpcm signed  november      ital...</td>\n",
       "      <td>Social Distancing</td>\n",
       "      <td>18</td>\n",
       "    </tr>\n",
       "    <tr>\n",
       "      <th>22788</th>\n",
       "      <td>march      italian region  lombardy issues ord...</td>\n",
       "      <td>Social Distancing</td>\n",
       "      <td>18</td>\n",
       "    </tr>\n",
       "    <tr>\n",
       "      <th>22789</th>\n",
       "      <td>march      ordinanza n     president   italian...</td>\n",
       "      <td>Social Distancing</td>\n",
       "      <td>18</td>\n",
       "    </tr>\n",
       "  </tbody>\n",
       "</table>\n",
       "<p>22790 rows × 3 columns</p>\n",
       "</div>"
      ]
     },
     "metadata": {},
     "execution_count": 97
    }
   ],
   "metadata": {}
  },
  {
   "cell_type": "markdown",
   "source": [
    "## 3. The base model - Logistic Regression\n",
    "\n",
    "Before implementing neural network, I tried fitting the model with different supervised and unsupervised machine learning models, including SVN, Multiple Bayes, Random Forest, Logistic Regression. There are several limitations to these approaches, the most problematic of which is that it requires running on high performing computer. Besides, even on their best parameters, these models appear to perform poorly on this dataset since we have a lot of classes.\n",
    "\n",
    "Here I implemented Logistic Regression, which, out of all the models, perform not too badly, and can be seen as a good representative choice for multiclassification problems like this one. Though we don't get the best results, this Logistic Regression acts as the base result to compare with more complex deep learning models.\n",
    "\n",
    "#### Step 0: Transform the train, test data\n",
    "\n",
    "To implement Logistic Regression, we first have to tokenize the text of train, test sets"
   ],
   "metadata": {}
  },
  {
   "cell_type": "code",
   "execution_count": 98,
   "source": [
    "ngram_range = (1,2)\n",
    "min_df = 10\n",
    "max_df = 1.\n",
    "max_features = 300\n",
    "\n",
    "tfidf = TfidfVectorizer(encoding='utf-8',\n",
    "                        ngram_range=ngram_range,\n",
    "                        stop_words=None,\n",
    "                        lowercase=False,\n",
    "                        max_df=max_df,\n",
    "                        min_df=min_df,\n",
    "                        max_features=max_features,\n",
    "                        norm='l2',\n",
    "                        sublinear_tf=True)\n",
    "                        \n",
    "features_train = tfidf.fit_transform(X_train).toarray()\n",
    "labels_train = y_train\n",
    "print(features_train.shape)\n",
    "\n",
    "features_test = tfidf.transform(X_test).toarray()\n",
    "labels_test = y_test\n",
    "print(features_test.shape)"
   ],
   "outputs": [
    {
     "output_type": "stream",
     "name": "stdout",
     "text": [
      "(19371, 300)\n",
      "(3419, 300)\n"
     ]
    }
   ],
   "metadata": {}
  },
  {
   "cell_type": "markdown",
   "source": [
    "#### Step 1: Random Grid Search"
   ],
   "metadata": {}
  },
  {
   "cell_type": "code",
   "execution_count": 99,
   "source": [
    "from sklearn.linear_model import LogisticRegression\n",
    "from sklearn.feature_extraction.text import TfidfVectorizer\n",
    "from sklearn.model_selection import RandomizedSearchCV\n",
    "from sklearn.model_selection import GridSearchCV\n",
    "from sklearn.metrics import confusion_matrix, accuracy_score\n",
    "import matplotlib.pyplot as plt\n",
    "import seaborn as sns\n",
    "\n",
    "# Grid search for the best parameter, a summary\n",
    "\n",
    "# lr_0 = LogisticRegression(random_state = 8)\n",
    "# print('Parameters currently in use:\\n')\n",
    "# print(lr_0.get_params())\n",
    "\n",
    "# '''''''''''''''''''''''''''''''''DEFINING THE PARAMETERS'''''''''''''\n",
    "# C = [float(x) for x in np.linspace(start = 0.1, stop = 1, num = 10)]\n",
    "# multi_class = ['multinomial']\n",
    "# solver = ['newton-cg', 'sag', 'saga', 'lbfgs']\n",
    "# class_weight = ['balanced', None]\n",
    "# penalty = ['l2']\n",
    "\n",
    "# random_grid = {'C': C,\n",
    "#                'multi_class': multi_class,\n",
    "#                'solver': solver,\n",
    "#                'class_weight': class_weight,\n",
    "#                'penalty': penalty}\n",
    "\n",
    "# print(random_grid)\n",
    "\n",
    "# '''''''''''''''''''''''''''''''''''''FIT THE MODEL'''''''''''''\n",
    "# lrc = LogisticRegression(random_state=8)\n",
    "# random_search = RandomizedSearchCV(estimator=lrc,\n",
    "#                                    param_distributions=random_grid,\n",
    "#                                    n_iter=50,\n",
    "#                                    scoring='accuracy',\n",
    "#                                    cv=3, \n",
    "#                                    verbose=1, \n",
    "#                                    random_state=8)\n",
    "# random_search.fit(features_train, labels_train)\n",
    "\n",
    "# '''''''''''''''''''''''''''''''''''''EXTRACT THE BEST COMBINATION OF PARAMETERS'''''''''''''\n",
    "# print(\"The best hyperparameters from Random Search are:\")\n",
    "# print(random_search.best_params_)\n",
    "# print(\"\")\n",
    "# print(\"The mean accuracy of a model with these hyperparameters is:\")\n",
    "# print(random_search.best_score_)"
   ],
   "outputs": [],
   "metadata": {}
  },
  {
   "cell_type": "markdown",
   "source": [
    "#### Step 2: Tighter parameter search (with cross-validation) in the optimal range from the result above"
   ],
   "metadata": {}
  },
  {
   "cell_type": "code",
   "execution_count": 100,
   "source": [
    "# '''''''''''''''''''''''''''''''''DEFINING THE PARAMETERS'''''''''''''\n",
    "# Create the parameter grid based on the results of random search \n",
    "# C = [float(x) for x in np.linspace(start = 0.5, stop = 0.9, num = 10)]\n",
    "# multi_class = ['multinomial']\n",
    "# solver = ['sag']\n",
    "# class_weight = [None]\n",
    "# penalty = ['l2']\n",
    "\n",
    "# param_grid = {'C': C,\n",
    "#                'multi_class': multi_class,\n",
    "#                'solver': solver,\n",
    "#                'class_weight': class_weight,\n",
    "#                'penalty': penalty}\n",
    "\n",
    "# '''''''''''''''''''''''''''''''''''''FIT THE MODEL'''''''''''''\n",
    "# lrc = LogisticRegression(random_state=8)\n",
    "# cv_sets = ShuffleSplit(n_splits = 3, test_size = .33, random_state = 8)\n",
    "# grid_search = GridSearchCV(estimator=lrc, \n",
    "#                            param_grid=param_grid,\n",
    "#                            scoring='accuracy',\n",
    "#                            cv=cv_sets,\n",
    "#                            verbose=1)\n",
    "\n",
    "# # Fit the grid search to the data\n",
    "# grid_search.fit(features_train, labels_train)\n",
    "\n",
    "# '''''''''''''''''''''''''''''''''''''EXTRACT THE BEST COMBINATION OF PARAMETERS'''''''''''''\n",
    "# print(\"The best hyperparameters from Grid Search are:\")\n",
    "# print(grid_search.best_params_)\n",
    "# print(\"\")\n",
    "# print(\"The mean accuracy of a model with these hyperparameters is:\")\n",
    "# print(grid_search.best_score_)\n",
    "\n",
    "#best_lrc = grid_search.best_estimator_"
   ],
   "outputs": [],
   "metadata": {}
  },
  {
   "cell_type": "markdown",
   "source": [
    "The best hyperparameters from Grid Search are:\n",
    "{'C': 0.7222222222222222, 'class_weight': None, 'multi_class': 'multinomial', 'penalty': 'l2', 'solver': 'sag'}"
   ],
   "metadata": {}
  },
  {
   "cell_type": "code",
   "execution_count": 101,
   "source": [
    "best_lrc = LogisticRegression(C=0.7222222222222222, class_weight=None, dual=False,\n",
    "                   fit_intercept=True, intercept_scaling=1, l1_ratio=None,\n",
    "                   max_iter=100, multi_class='multinomial', n_jobs=None,\n",
    "                   penalty='l2', random_state=8, solver='sag', tol=0.0001,\n",
    "                   verbose=0, warm_start=False)\n",
    "best_lrc.fit(features_train, labels_train)"
   ],
   "outputs": [
    {
     "output_type": "execute_result",
     "data": {
      "text/plain": [
       "LogisticRegression(C=0.7222222222222222, class_weight=None, dual=False,\n",
       "                   fit_intercept=True, intercept_scaling=1, l1_ratio=None,\n",
       "                   max_iter=100, multi_class='multinomial', n_jobs=None,\n",
       "                   penalty='l2', random_state=8, solver='sag', tol=0.0001,\n",
       "                   verbose=0, warm_start=False)"
      ]
     },
     "metadata": {},
     "execution_count": 101
    }
   ],
   "metadata": {}
  },
  {
   "cell_type": "code",
   "execution_count": 102,
   "source": [
    "lrc_pred = best_lrc.predict(features_test)\n",
    "\n",
    "# Training accuracy\n",
    "\n",
    "print(\"The training accuracy is: \")\n",
    "print(accuracy_score(labels_train, best_lrc.predict(features_train)))\n",
    "\n",
    "# Test accuracy\n",
    "\n",
    "print(\"The test accuracy is: \")\n",
    "print(accuracy_score(labels_test, lrc_pred))"
   ],
   "outputs": [
    {
     "output_type": "stream",
     "name": "stdout",
     "text": [
      "The training accuracy is: \n",
      "0.6531929172474318\n",
      "The test accuracy is: \n",
      "0.6346885054109389\n"
     ]
    }
   ],
   "metadata": {}
  },
  {
   "cell_type": "code",
   "execution_count": 103,
   "source": [
    "# Classification report\n",
    "print(\"Classification report\")\n",
    "print(classification_report(labels_test,lrc_pred))"
   ],
   "outputs": [
    {
     "output_type": "stream",
     "name": "stdout",
     "text": [
      "Classification report\n",
      "                                                        precision    recall  f1-score   support\n",
      "\n",
      "                          Anti-Disinformation Measures       0.00      0.00      0.00        12\n",
      "                                     COVID-19 Vaccines       0.00      0.00      0.00        23\n",
      "                     Closure and Regulation of Schools       0.76      0.84      0.80       227\n",
      "                                                Curfew       0.86      0.58      0.69        33\n",
      "                              Declaration of Emergency       0.80      0.86      0.83        86\n",
      "                          External Border Restrictions       0.67      0.55      0.60       118\n",
      "                                     Health Monitoring       0.43      0.30      0.35        87\n",
      "                                      Health Resources       0.58      0.73      0.65       377\n",
      "                                        Health Testing       0.64      0.42      0.50       125\n",
      "                                               Hygiene       0.58      0.33      0.42        84\n",
      "                          Internal Border Restrictions       0.35      0.26      0.30       107\n",
      "                                              Lockdown       0.71      0.73      0.72       172\n",
      "New Task Force, Bureau or Administrative Configuration       0.56      0.35      0.43        99\n",
      "                         Other Policy Not Listed Above       0.36      0.22      0.28       130\n",
      "                             Public Awareness Measures       0.45      0.49      0.47       185\n",
      "                                            Quarantine       0.79      0.80      0.80       232\n",
      "              Restriction and Regulation of Businesses       0.62      0.84      0.72       581\n",
      "     Restriction and Regulation of Government Services       0.52      0.46      0.49       237\n",
      "                       Restrictions of Mass Gatherings       0.79      0.71      0.75       328\n",
      "                                     Social Distancing       0.70      0.64      0.67       176\n",
      "\n",
      "                                              accuracy                           0.63      3419\n",
      "                                             macro avg       0.56      0.51      0.52      3419\n",
      "                                          weighted avg       0.62      0.63      0.62      3419\n",
      "\n"
     ]
    },
    {
     "output_type": "stream",
     "name": "stderr",
     "text": [
      "/opt/anaconda3/lib/python3.7/site-packages/sklearn/metrics/_classification.py:1272: UndefinedMetricWarning: Precision and F-score are ill-defined and being set to 0.0 in labels with no predicted samples. Use `zero_division` parameter to control this behavior.\n",
      "  _warn_prf(average, modifier, msg_start, len(result))\n"
     ]
    }
   ],
   "metadata": {}
  },
  {
   "cell_type": "code",
   "execution_count": 104,
   "source": [
    "conf_matrix = confusion_matrix(labels_test, lrc_pred)\n",
    "plt.figure(figsize=(12.8,6))\n",
    "sns.heatmap(conf_matrix, \n",
    "            annot=True,\n",
    "            cmap=\"Blues\")\n",
    "plt.ylabel('Predicted')\n",
    "plt.xlabel('Actual')\n",
    "plt.title('Confusion matrix')\n",
    "plt.show()"
   ],
   "outputs": [
    {
     "output_type": "display_data",
     "data": {
      "text/plain": [
       "<Figure size 921.6x432 with 2 Axes>"
      ],
      "image/png": "[encoded data removed]"
     },
     "metadata": {
      "needs_background": "light"
     }
    }
   ],
   "metadata": {}
  },
  {
   "cell_type": "markdown",
   "source": [
    "## 4. Fit the neural network model"
   ],
   "metadata": {}
  },
  {
   "cell_type": "code",
   "execution_count": 105,
   "source": [
    "from sklearn.utils import class_weight\n",
    "class_weights = list(class_weight.compute_class_weight('balanced', \n",
    "                                                       np.unique(df2['type']), \n",
    "                                                       df2['type']))\n",
    "\n",
    "class_weights"
   ],
   "outputs": [
    {
     "output_type": "execute_result",
     "data": {
      "text/plain": [
       "[0.29589716956634643,\n",
       " 0.450751582278481,\n",
       " 0.5876740587931923,\n",
       " 0.6910248635536689,\n",
       " 0.7276500638569604,\n",
       " 0.8299344501092498,\n",
       " 0.8652239939255885,\n",
       " 0.9036478984932593,\n",
       " 0.9409578860445913,\n",
       " 1.1845114345114345,\n",
       " 1.4424050632911392,\n",
       " 1.5588235294117647,\n",
       " 1.6049295774647887,\n",
       " 1.6419308357348703,\n",
       " 1.8173843700159489,\n",
       " 1.9313559322033897,\n",
       " 2.1378986866791743,\n",
       " 5.3,\n",
       " 9.264227642276422,\n",
       " 9.495833333333334]"
      ]
     },
     "metadata": {},
     "execution_count": 105
    }
   ],
   "metadata": {}
  },
  {
   "cell_type": "code",
   "execution_count": 106,
   "source": [
    "weights = {}\n",
    "for index, weight in enumerate(class_weights) :\n",
    "    weights[index] = weight\n",
    "    \n",
    "weights"
   ],
   "outputs": [
    {
     "output_type": "execute_result",
     "data": {
      "text/plain": [
       "{0: 0.29589716956634643,\n",
       " 1: 0.450751582278481,\n",
       " 2: 0.5876740587931923,\n",
       " 3: 0.6910248635536689,\n",
       " 4: 0.7276500638569604,\n",
       " 5: 0.8299344501092498,\n",
       " 6: 0.8652239939255885,\n",
       " 7: 0.9036478984932593,\n",
       " 8: 0.9409578860445913,\n",
       " 9: 1.1845114345114345,\n",
       " 10: 1.4424050632911392,\n",
       " 11: 1.5588235294117647,\n",
       " 12: 1.6049295774647887,\n",
       " 13: 1.6419308357348703,\n",
       " 14: 1.8173843700159489,\n",
       " 15: 1.9313559322033897,\n",
       " 16: 2.1378986866791743,\n",
       " 17: 5.3,\n",
       " 18: 9.264227642276422,\n",
       " 19: 9.495833333333334}"
      ]
     },
     "metadata": {},
     "execution_count": 106
    }
   ],
   "metadata": {}
  },
  {
   "cell_type": "code",
   "execution_count": 107,
   "source": [
    "# create the train and test sets suitable for NN model\n",
    "dataset_train = tf.data.Dataset.from_tensor_slices((X_train.values, y_train.values))\n",
    "dataset_test = tf.data.Dataset.from_tensor_slices((X_test.values, y_test.values))"
   ],
   "outputs": [],
   "metadata": {}
  },
  {
   "cell_type": "code",
   "execution_count": 108,
   "source": [
    "for text, target in dataset_train.take(5):\n",
    "    print('Desc: {}, label: {}'.format(text, target))"
   ],
   "outputs": [
    {
     "output_type": "stream",
     "name": "stdout",
     "text": [
      "Desc: b' russia   magadan government shuts   businesses   related   provision  services   field  cultural  entertainment leisure   organization  advertising  theater  concert performances  entertainment events  exhibitions  starting  april ', label: b'Restriction and Regulation of Businesses'\n",
      "Desc: b' march   montana governor steve bullock issued  executive order declaring  state  emergency  exist within  state  montana related   communicable disease covid- novel coronavirus   emergency order allows  governor  direct  coordinated response   outbreak  communicable disease   includes mobilizing  available state resources    emergency funds  personnel   national guard   also allows  governor  take additional steps  warranted ', label: b'Declaration of Emergency'\n",
      "Desc: b' may      ministry  health  labour  welfare    mhlw  issued   basic policies  novel coronavirus control   published  march     revised  may       order  regulate    going  workplaces    noted    ii  based   expectation   designated prefectures  need sustainable measures  future  businesses engaged  work essential  ensuring  stability  people  lives   national economy  examples given   attachment   well  businesses supporting  work  must continue operating  depending   characteristics   businesses   taking comprehensive measures  prevent  spread  infections  including measures  avoid  cs  ', label: b'Restriction and Regulation of Businesses'\n",
      "Desc: b' may       th meeting   novel coronavirus response headquarters  prime minister abe shinz\\xc5\\x8d asked  \\xe2\\x80\\x9c  cover    government outlays   total expenditure   comprehensive support subsidy  medical systems  increase  amount significantly       intend  extend robust support    enhancing screening structures  care   patients  severe symptoms  order  solve various issues faced  medical institutions\\xe2\\x80\\x9d  ', label: b'Health Resources'\n",
      "Desc: b'  april    head   republic  tyva requires  residents  tyva   leave houses without urgent medical  consumption needs  update   original lockdown policy   extended   may   update   last day   original lockdown  unknown      extended   may  ', label: b'Lockdown'\n"
     ]
    }
   ],
   "metadata": {}
  },
  {
   "cell_type": "code",
   "execution_count": 109,
   "source": [
    "table = tf.lookup.StaticHashTable(\n",
    "    initializer=tf.lookup.KeyValueTensorInitializer(\n",
    "        keys=tf.constant(list(category_codes.keys())),\n",
    "        values = tf.constant(list(category_codes.values()))\n",
    "    ),\n",
    "    default_value=tf.constant(-1),\n",
    "    name=\"target_encoding\"\n",
    ")\n",
    "\n",
    "@tf.function\n",
    "def target(x):\n",
    "    return table.lookup(x)"
   ],
   "outputs": [],
   "metadata": {}
  },
  {
   "cell_type": "code",
   "execution_count": 131,
   "source": [
    "def fetch(text, labels):\n",
    "    '''\n",
    "    Purpose: one hot encoding the labels of the dataset\n",
    "    '''\n",
    "    return text, tf.one_hot(target(labels), 19)\n",
    "\n",
    "train_data_fetch = dataset_train.map(fetch)\n",
    "test_data_fetch = dataset_test.map(fetch)\n",
    "\n",
    "# get a batch of data\n",
    "train_data, train_labels = next(iter(dataset_train.map(fetch).batch(1000)))"
   ],
   "outputs": [],
   "metadata": {}
  },
  {
   "cell_type": "markdown",
   "source": [
    "#### Start creating a model\n",
    "\n",
    "I'm going to fit the model without the dropout layers first, then compare it with the dropout layers method. For the model, I'm using an open-source embedding layer that handles the tokenization task for us."
   ],
   "metadata": {}
  },
  {
   "cell_type": "code",
   "execution_count": 132,
   "source": [
    "embedding = \"https://tfhub.dev/google/nnlm-en-dim128/2\"\n",
    "hub_layer = hub.KerasLayer(embedding, output_shape=[128],input_shape=[], dtype=tf.string,\n",
    "                          trainable=True)\n",
    "#demonstrate how this layer tokenize the text\n",
    "hub_layer(train_data[:1])"
   ],
   "outputs": [
    {
     "output_type": "execute_result",
     "data": {
      "text/plain": [
       "<tf.Tensor: shape=(1, 128), dtype=float32, numpy=\n",
       "array([[-0.01621816,  0.40372285,  0.00164725, -0.37480858,  0.08084103,\n",
       "         0.20680235,  0.04397368, -0.30214432, -0.18861702,  0.30879438,\n",
       "         0.16946974, -0.14245698, -0.05299588,  0.19755208, -0.07637328,\n",
       "        -0.03807335, -0.02310325,  0.01548214,  0.08777677, -0.09021135,\n",
       "        -0.01757798, -0.06095961,  0.1357396 ,  0.05659243,  0.260177  ,\n",
       "        -0.05180504, -0.0177313 ,  0.02200496, -0.03014481,  0.17852491,\n",
       "         0.10194247, -0.22433169, -0.16518947,  0.3761263 , -0.03583104,\n",
       "         0.0852128 , -0.02257515, -0.04823471, -0.03777955, -0.05221266,\n",
       "        -0.16312662,  0.19729845, -0.03254265,  0.23602825, -0.16145404,\n",
       "         0.08150919,  0.0801242 , -0.24954356,  0.19191559,  0.22755569,\n",
       "         0.05627486, -0.01934076,  0.40533257, -0.08100396,  0.09688789,\n",
       "        -0.10653715,  0.17031918, -0.09386241, -0.02731524,  0.15563515,\n",
       "        -0.12421128,  0.24334484,  0.09610028,  0.18665425,  0.03220046,\n",
       "        -0.0428872 , -0.09675217,  0.07388218, -0.17179903,  0.20824645,\n",
       "        -0.1602397 , -0.1161384 ,  0.04152416,  0.03756465, -0.03847709,\n",
       "         0.24181557, -0.23831955,  0.09207498,  0.15517084, -0.17000401,\n",
       "         0.4103532 ,  0.05591348, -0.20304507,  0.02198855,  0.03254462,\n",
       "         0.0134432 , -0.06812832,  0.02082171,  0.19960006,  0.47287905,\n",
       "         0.27526706,  0.4503736 , -0.2735377 , -0.11763076, -0.05147941,\n",
       "        -0.0448168 , -0.01728069, -0.0619898 , -0.03898688,  0.02437543,\n",
       "        -0.22421463, -0.23370197, -0.04917187, -0.00291125,  0.1808033 ,\n",
       "         0.06608869,  0.18100281,  0.12428271, -0.20327385, -0.13643746,\n",
       "        -0.318478  ,  0.11730693,  0.16521922,  0.01724827, -0.22291793,\n",
       "         0.04916412,  0.04443384, -0.17713086,  0.3175272 ,  0.3069846 ,\n",
       "        -0.20391367, -0.04766005, -0.07612491,  0.21841267,  0.01331859,\n",
       "         0.2916624 ,  0.16617753,  0.10197967]], dtype=float32)>"
      ]
     },
     "metadata": {},
     "execution_count": 132
    }
   ],
   "metadata": {}
  },
  {
   "cell_type": "code",
   "execution_count": 133,
   "source": [
    "#build the basic model without dropout\n",
    "model_wo_dropout = tf.keras.Sequential()\n",
    "model_wo_dropout.add(hub_layer)\n",
    "for units in [128, 128, 64, 32]:\n",
    "    model_wo_dropout.add(tf.keras.layers.Dense(units, activation='relu'))\n",
    "model_wo_dropout.add(tf.keras.layers.Dense(19, activation='softmax'))\n",
    "\n",
    "model_wo_dropout.summary()"
   ],
   "outputs": [
    {
     "output_type": "stream",
     "name": "stdout",
     "text": [
      "Model: \"sequential_4\"\n",
      "_________________________________________________________________\n",
      "Layer (type)                 Output Shape              Param #   \n",
      "=================================================================\n",
      "keras_layer_4 (KerasLayer)   (None, 128)               124642688 \n",
      "_________________________________________________________________\n",
      "dense_20 (Dense)             (None, 128)               16512     \n",
      "_________________________________________________________________\n",
      "dense_21 (Dense)             (None, 128)               16512     \n",
      "_________________________________________________________________\n",
      "dense_22 (Dense)             (None, 64)                8256      \n",
      "_________________________________________________________________\n",
      "dense_23 (Dense)             (None, 32)                2080      \n",
      "_________________________________________________________________\n",
      "dense_24 (Dense)             (None, 19)                627       \n",
      "=================================================================\n",
      "Total params: 124,686,675\n",
      "Trainable params: 124,686,675\n",
      "Non-trainable params: 0\n",
      "_________________________________________________________________\n"
     ]
    }
   ],
   "metadata": {}
  },
  {
   "cell_type": "code",
   "execution_count": 134,
   "source": [
    "#compile the model\n",
    "model_wo_dropout.compile(optimizer='adam', \n",
    "              loss=tf.keras.losses.CategoricalCrossentropy(from_logits=True),\n",
    "              metrics=['accuracy'])"
   ],
   "outputs": [],
   "metadata": {}
  },
  {
   "cell_type": "code",
   "execution_count": 135,
   "source": [
    "train_data_fetch = train_data_fetch.shuffle(70000).batch(512)\n",
    "test_data_fetch = test_data_fetch.batch(512)"
   ],
   "outputs": [],
   "metadata": {}
  },
  {
   "cell_type": "code",
   "execution_count": 136,
   "source": [
    "#fit the model\n",
    "from keras import callbacks\n",
    "earlystopping = callbacks.EarlyStopping(monitor=\"val_loss\", mode=\"min\", patience=5, restore_best_weights=True, verbose=1)\n",
    "text_classifier_wo_dropout = model_wo_dropout.fit(train_data_fetch, epochs=25, validation_data = test_data_fetch,\n",
    "                   verbose=1, class_weight=weights, callbacks =[earlystopping])"
   ],
   "outputs": [
    {
     "output_type": "stream",
     "name": "stdout",
     "text": [
      "Epoch 1/25\n",
      "38/38 [==============================] - 99s 3s/step - loss: 4.8280 - accuracy: 0.1121 - val_loss: 2.3830 - val_accuracy: 0.1907\n",
      "Epoch 2/25\n",
      "38/38 [==============================] - 93s 2s/step - loss: 2.8414 - accuracy: 0.3471 - val_loss: 1.7929 - val_accuracy: 0.4738\n",
      "Epoch 3/25\n",
      "38/38 [==============================] - 86s 2s/step - loss: 1.8643 - accuracy: 0.5363 - val_loss: 1.3930 - val_accuracy: 0.5700\n",
      "Epoch 4/25\n",
      "38/38 [==============================] - 125s 3s/step - loss: 1.2266 - accuracy: 0.6705 - val_loss: 1.1417 - val_accuracy: 0.6440\n",
      "Epoch 5/25\n",
      "38/38 [==============================] - 110s 3s/step - loss: 0.8423 - accuracy: 0.7531 - val_loss: 1.0806 - val_accuracy: 0.6791\n",
      "Epoch 6/25\n",
      "38/38 [==============================] - 115s 3s/step - loss: 0.5987 - accuracy: 0.8087 - val_loss: 1.0124 - val_accuracy: 0.7066\n",
      "Epoch 7/25\n",
      "38/38 [==============================] - 98s 3s/step - loss: 0.4260 - accuracy: 0.8495 - val_loss: 1.0527 - val_accuracy: 0.7052\n",
      "Epoch 8/25\n",
      "38/38 [==============================] - 84s 2s/step - loss: 0.3251 - accuracy: 0.8760 - val_loss: 1.0926 - val_accuracy: 0.7116\n",
      "Epoch 9/25\n",
      "38/38 [==============================] - 105s 3s/step - loss: 0.2549 - accuracy: 0.8936 - val_loss: 1.1408 - val_accuracy: 0.7090\n",
      "Epoch 10/25\n",
      "38/38 [==============================] - 91s 2s/step - loss: 0.1961 - accuracy: 0.9072 - val_loss: 1.1980 - val_accuracy: 0.7099\n",
      "Epoch 11/25\n",
      "38/38 [==============================] - 91s 2s/step - loss: 0.1657 - accuracy: 0.9173 - val_loss: 1.3036 - val_accuracy: 0.7066\n",
      "Restoring model weights from the end of the best epoch.\n",
      "Epoch 00011: early stopping\n"
     ]
    }
   ],
   "metadata": {}
  },
  {
   "cell_type": "code",
   "execution_count": 137,
   "source": [
    "#evaluate the model\n",
    "test_length = len(list(dataset_test))\n",
    "results = model_wo_dropout.evaluate(dataset_test.map(fetch).batch(test_length), verbose=2)\n",
    "print(results)"
   ],
   "outputs": [
    {
     "output_type": "stream",
     "name": "stdout",
     "text": [
      "1/1 - 0s - loss: 1.0124 - accuracy: 0.7066\n",
      "[1.01235032081604, 0.7066393494606018]\n"
     ]
    }
   ],
   "metadata": {}
  },
  {
   "cell_type": "code",
   "execution_count": 140,
   "source": [
    "#training errors\n",
    "y_train_pred = model_wo_dropout.predict(train_data)\n",
    "\n",
    "print(classification_report(train_labels.numpy().argmax(axis=1), y_train_pred.argmax(axis=1)))"
   ],
   "outputs": [
    {
     "output_type": "stream",
     "name": "stdout",
     "text": [
      "              precision    recall  f1-score   support\n",
      "\n",
      "           0       0.00      0.00      0.00        54\n",
      "           1       1.00      0.12      0.21        25\n",
      "           2       1.00      0.25      0.40         8\n",
      "           3       0.93      0.89      0.91        63\n",
      "           4       0.74      0.94      0.83        31\n",
      "           5       0.88      0.72      0.79        40\n",
      "           6       0.75      0.30      0.43        20\n",
      "           7       0.83      0.96      0.89       120\n",
      "           8       0.83      0.69      0.75        29\n",
      "           9       0.73      0.79      0.76        38\n",
      "          10       0.88      0.90      0.89        51\n",
      "          11       0.84      0.95      0.89        38\n",
      "          12       0.83      0.62      0.71         8\n",
      "          13       0.78      1.00      0.87        45\n",
      "          14       0.69      1.00      0.82        52\n",
      "          15       0.87      0.97      0.92       154\n",
      "          16       0.80      0.92      0.85        76\n",
      "          17       0.97      0.98      0.97        89\n",
      "          18       0.88      1.00      0.94        59\n",
      "\n",
      "    accuracy                           0.84      1000\n",
      "   macro avg       0.80      0.74      0.73      1000\n",
      "weighted avg       0.80      0.84      0.80      1000\n",
      "\n"
     ]
    }
   ],
   "metadata": {}
  },
  {
   "cell_type": "code",
   "execution_count": 138,
   "source": [
    "# test errors\n",
    "test_data, test_labels = next(iter(dataset_test.map(fetch).batch(test_length)))\n",
    "y_pred = model_wo_dropout.predict(test_data)\n",
    "\n",
    "print(classification_report(test_labels.numpy().argmax(axis=1), y_pred.argmax(axis=1)))"
   ],
   "outputs": [
    {
     "output_type": "stream",
     "name": "stdout",
     "text": [
      "              precision    recall  f1-score   support\n",
      "\n",
      "           0       0.00      0.00      0.00       142\n",
      "           1       0.40      0.05      0.09        84\n",
      "           2       1.00      0.39      0.57        33\n",
      "           3       0.82      0.84      0.83       227\n",
      "           4       0.65      0.80      0.72        86\n",
      "           5       0.75      0.61      0.67       118\n",
      "           6       0.44      0.18      0.26        87\n",
      "           7       0.66      0.77      0.71       377\n",
      "           8       0.65      0.52      0.58       125\n",
      "           9       0.61      0.52      0.56       107\n",
      "          10       0.74      0.79      0.76       172\n",
      "          11       0.54      0.64      0.58        99\n",
      "          12       0.71      0.22      0.33        23\n",
      "          13       0.58      0.70      0.64       185\n",
      "          14       0.64      0.87      0.74       232\n",
      "          15       0.83      0.87      0.85       581\n",
      "          16       0.63      0.78      0.70       237\n",
      "          17       0.84      0.83      0.83       328\n",
      "          18       0.63      0.80      0.70       176\n",
      "\n",
      "    accuracy                           0.71      3419\n",
      "   macro avg       0.64      0.59      0.59      3419\n",
      "weighted avg       0.67      0.71      0.68      3419\n",
      "\n"
     ]
    }
   ],
   "metadata": {}
  },
  {
   "cell_type": "markdown",
   "source": [
    "#### Model with Dropout layers for confirmation of overfitting\n",
    "\n",
    "To confirm whether our model overfits the data or not, we train a secondary neural network with several dropout layers and compare the results.\\\n",
    "** Dropout layer is a tool to regularize neural network, in which a number of layer outputs at random are ignored so that the sparser network will have to adapt to correct mistakes from prior layers. We can grid search the best dropout parameter between the range 0.1-1.0. Here, I used 0.3 as the parameter"
   ],
   "metadata": {}
  },
  {
   "cell_type": "code",
   "execution_count": 141,
   "source": [
    "# re-create train, test data for fitting the model\n",
    "train_data_fetch_dropout = dataset_train.map(fetch)\n",
    "test_data_fetch_dropout = dataset_test.map(fetch)"
   ],
   "outputs": [],
   "metadata": {}
  },
  {
   "cell_type": "code",
   "execution_count": 142,
   "source": [
    "# build a similar model but with the dropout layers\n",
    "model = tf.keras.Sequential()\n",
    "model.add(hub_layer)\n",
    "for units in [128, 128, 64]:\n",
    "    model.add(tf.keras.layers.Dense(units, activation='relu'))\n",
    "    model.add(tf.keras.layers.Dropout(0.3))\n",
    "model.add(tf.keras.layers.Dense(32, activation='relu'))\n",
    "model.add(tf.keras.layers.Dense(19, activation='softmax'))\n",
    "\n",
    "model.summary()"
   ],
   "outputs": [
    {
     "output_type": "stream",
     "name": "stdout",
     "text": [
      "Model: \"sequential_5\"\n",
      "_________________________________________________________________\n",
      "Layer (type)                 Output Shape              Param #   \n",
      "=================================================================\n",
      "keras_layer_4 (KerasLayer)   (None, 128)               124642688 \n",
      "_________________________________________________________________\n",
      "dense_25 (Dense)             (None, 128)               16512     \n",
      "_________________________________________________________________\n",
      "dropout_8 (Dropout)          (None, 128)               0         \n",
      "_________________________________________________________________\n",
      "dense_26 (Dense)             (None, 128)               16512     \n",
      "_________________________________________________________________\n",
      "dropout_9 (Dropout)          (None, 128)               0         \n",
      "_________________________________________________________________\n",
      "dense_27 (Dense)             (None, 64)                8256      \n",
      "_________________________________________________________________\n",
      "dropout_10 (Dropout)         (None, 64)                0         \n",
      "_________________________________________________________________\n",
      "dense_28 (Dense)             (None, 32)                2080      \n",
      "_________________________________________________________________\n",
      "dense_29 (Dense)             (None, 19)                627       \n",
      "=================================================================\n",
      "Total params: 124,686,675\n",
      "Trainable params: 124,686,675\n",
      "Non-trainable params: 0\n",
      "_________________________________________________________________\n"
     ]
    }
   ],
   "metadata": {}
  },
  {
   "cell_type": "markdown",
   "source": [
    "**Brief discuss/note: after removing the final dropout layer (the dropout right before the output layer), the performance improves by a few percentage points, and the loss is also reduced across the epochs during training. This is because the output layer can't correct the errors from the previous layers anymore, so adding another dropout layer will end up hurting the model's performance"
   ],
   "metadata": {}
  },
  {
   "cell_type": "code",
   "execution_count": 143,
   "source": [
    "#compile the model\n",
    "model.compile(optimizer='adam', \n",
    "              loss=tf.keras.losses.CategoricalCrossentropy(from_logits=True),\n",
    "              metrics=['accuracy'])"
   ],
   "outputs": [],
   "metadata": {}
  },
  {
   "cell_type": "code",
   "execution_count": 144,
   "source": [
    "train_data_fetch_dropout = train_data_fetch_dropout.shuffle(10000).batch(1500)\n",
    "test_data_fetch_dropout = test_data_fetch_dropout.batch(512)"
   ],
   "outputs": [],
   "metadata": {}
  },
  {
   "cell_type": "code",
   "execution_count": 145,
   "source": [
    "#fit the model\n",
    "text_classifier = model.fit(train_data_fetch_dropout, epochs=100, validation_data = test_data_fetch_dropout,\n",
    "                   verbose=1, class_weight=weights, callbacks =[earlystopping])"
   ],
   "outputs": [
    {
     "output_type": "stream",
     "name": "stdout",
     "text": [
      "Epoch 1/100\n",
      "13/13 [==============================] - 41s 3s/step - loss: 5.7411 - accuracy: 0.0975 - val_loss: 2.7204 - val_accuracy: 0.1720\n",
      "Epoch 2/100\n",
      "13/13 [==============================] - 34s 3s/step - loss: 4.6339 - accuracy: 0.1567 - val_loss: 2.4556 - val_accuracy: 0.2717\n",
      "Epoch 3/100\n",
      "13/13 [==============================] - 30s 2s/step - loss: 3.4712 - accuracy: 0.2430 - val_loss: 2.1352 - val_accuracy: 0.2828\n",
      "Epoch 4/100\n",
      "13/13 [==============================] - 31s 2s/step - loss: 2.7108 - accuracy: 0.3168 - val_loss: 1.9548 - val_accuracy: 0.3767\n",
      "Epoch 5/100\n",
      "13/13 [==============================] - 27s 2s/step - loss: 2.3078 - accuracy: 0.3932 - val_loss: 1.8269 - val_accuracy: 0.4147\n",
      "Epoch 6/100\n",
      "13/13 [==============================] - 32s 2s/step - loss: 1.9920 - accuracy: 0.4550 - val_loss: 1.6674 - val_accuracy: 0.4955\n",
      "Epoch 7/100\n",
      "13/13 [==============================] - 30s 2s/step - loss: 1.6581 - accuracy: 0.5263 - val_loss: 1.5019 - val_accuracy: 0.5423\n",
      "Epoch 8/100\n",
      "13/13 [==============================] - 28s 2s/step - loss: 1.3808 - accuracy: 0.5904 - val_loss: 1.3843 - val_accuracy: 0.5964\n",
      "Epoch 9/100\n",
      "13/13 [==============================] - 28s 2s/step - loss: 1.1274 - accuracy: 0.6576 - val_loss: 1.2836 - val_accuracy: 0.6464\n",
      "Epoch 10/100\n",
      "13/13 [==============================] - 32s 2s/step - loss: 0.9623 - accuracy: 0.7048 - val_loss: 1.2495 - val_accuracy: 0.6607\n",
      "Epoch 11/100\n",
      "13/13 [==============================] - 30s 2s/step - loss: 0.8564 - accuracy: 0.7312 - val_loss: 1.1980 - val_accuracy: 0.6707\n",
      "Epoch 12/100\n",
      "13/13 [==============================] - 30s 2s/step - loss: 0.7532 - accuracy: 0.7543 - val_loss: 1.1799 - val_accuracy: 0.6809\n",
      "Epoch 13/100\n",
      "13/13 [==============================] - 30s 2s/step - loss: 0.6552 - accuracy: 0.7736 - val_loss: 1.1914 - val_accuracy: 0.6882\n",
      "Epoch 14/100\n",
      "13/13 [==============================] - 28s 2s/step - loss: 0.6119 - accuracy: 0.7862 - val_loss: 1.1910 - val_accuracy: 0.6856\n",
      "Epoch 15/100\n",
      "13/13 [==============================] - 26s 2s/step - loss: 0.5617 - accuracy: 0.8011 - val_loss: 1.1888 - val_accuracy: 0.6903\n",
      "Epoch 16/100\n",
      "13/13 [==============================] - 28s 2s/step - loss: 0.5111 - accuracy: 0.8136 - val_loss: 1.2102 - val_accuracy: 0.6914\n",
      "Epoch 17/100\n",
      "13/13 [==============================] - 27s 2s/step - loss: 0.4718 - accuracy: 0.8191 - val_loss: 1.2226 - val_accuracy: 0.6970\n",
      "Restoring model weights from the end of the best epoch.\n",
      "Epoch 00017: early stopping\n"
     ]
    }
   ],
   "metadata": {}
  },
  {
   "cell_type": "code",
   "execution_count": 146,
   "source": [
    "test_length = len(list(dataset_test))\n",
    "results = model.evaluate(dataset_test.map(fetch).batch(test_length), verbose=2)\n",
    "print(results)"
   ],
   "outputs": [
    {
     "output_type": "stream",
     "name": "stdout",
     "text": [
      "1/1 - 0s - loss: 1.1799 - accuracy: 0.6809\n",
      "[1.1798758506774902, 0.6809008717536926]\n"
     ]
    }
   ],
   "metadata": {}
  },
  {
   "cell_type": "markdown",
   "source": [
    "We look closer at the confusing matrices"
   ],
   "metadata": {}
  },
  {
   "cell_type": "code",
   "execution_count": 148,
   "source": [
    "# training errors\n",
    "y_train_pred_dropout = model.predict(train_data)\n",
    "\n",
    "print(classification_report(train_labels.numpy().argmax(axis=1), y_train_pred_dropout.argmax(axis=1)))"
   ],
   "outputs": [
    {
     "output_type": "stream",
     "name": "stdout",
     "text": [
      "              precision    recall  f1-score   support\n",
      "\n",
      "           0       0.00      0.00      0.00        54\n",
      "           1       0.00      0.00      0.00        25\n",
      "           2       0.00      0.00      0.00         8\n",
      "           3       0.84      0.90      0.87        63\n",
      "           4       0.71      0.81      0.76        31\n",
      "           5       0.76      0.62      0.68        40\n",
      "           6       0.00      0.00      0.00        20\n",
      "           7       0.83      0.95      0.89       120\n",
      "           8       0.70      0.66      0.68        29\n",
      "           9       0.57      0.79      0.66        38\n",
      "          10       0.82      0.90      0.86        51\n",
      "          11       0.63      0.95      0.76        38\n",
      "          12       0.00      0.00      0.00         8\n",
      "          13       0.74      0.96      0.83        45\n",
      "          14       0.78      1.00      0.87        52\n",
      "          15       0.89      0.99      0.94       154\n",
      "          16       0.88      0.92      0.90        76\n",
      "          17       0.96      0.98      0.97        89\n",
      "          18       0.89      1.00      0.94        59\n",
      "\n",
      "    accuracy                           0.82      1000\n",
      "   macro avg       0.58      0.65      0.61      1000\n",
      "weighted avg       0.73      0.82      0.77      1000\n",
      "\n"
     ]
    }
   ],
   "metadata": {}
  },
  {
   "cell_type": "code",
   "execution_count": 147,
   "source": [
    "# testing errors\n",
    "test_data, test_labels = next(iter(dataset_test.map(fetch).batch(test_length)))\n",
    "y_pred = model.predict(test_data)\n",
    "\n",
    "print(classification_report(test_labels.numpy().argmax(axis=1), y_pred.argmax(axis=1)))"
   ],
   "outputs": [
    {
     "output_type": "stream",
     "name": "stdout",
     "text": [
      "              precision    recall  f1-score   support\n",
      "\n",
      "           0       0.00      0.00      0.00       142\n",
      "           1       0.00      0.00      0.00        84\n",
      "           2       0.00      0.00      0.00        33\n",
      "           3       0.75      0.81      0.78       227\n",
      "           4       0.62      0.72      0.67        86\n",
      "           5       0.64      0.56      0.60       118\n",
      "           6       0.00      0.00      0.00        87\n",
      "           7       0.68      0.79      0.73       377\n",
      "           8       0.49      0.39      0.44       125\n",
      "           9       0.46      0.43      0.44       107\n",
      "          10       0.68      0.83      0.75       172\n",
      "          11       0.37      0.62      0.46        99\n",
      "          12       0.00      0.00      0.00        23\n",
      "          13       0.57      0.67      0.62       185\n",
      "          14       0.69      0.86      0.77       232\n",
      "          15       0.81      0.88      0.84       581\n",
      "          16       0.63      0.76      0.69       237\n",
      "          17       0.84      0.82      0.83       328\n",
      "          18       0.63      0.79      0.70       176\n",
      "\n",
      "    accuracy                           0.68      3419\n",
      "   macro avg       0.47      0.52      0.49      3419\n",
      "weighted avg       0.61      0.68      0.64      3419\n",
      "\n"
     ]
    }
   ],
   "metadata": {}
  },
  {
   "cell_type": "markdown",
   "source": [
    "### 5. Discussion of the result and next steps\n",
    "\n",
    "- The performance of the model with and without dropout layers are pretty much the same. The diverge between train and test errors don't improve even after using the dropout layers. In fact, with the dropout layer, the model fails to predict the labels for a lot more categories than the model without the dropout layer (many have 0% accuracy). However, after examining the big dataset and the fact that regulization doesn't significantly improve the model, I don't think that overfitting is not that big of a problem in this model. Further analysis can involve fitting models on different dropout values to confirm if the performance doesn't improve because we didn't choose a good dropout rate, or because of the dataset itself.\n",
    "- The logistic regression, as well as other ML models, don't have that big of a gap between the training and testing errors. It can be said that these ML models don't suffer from overfitting as much as the neural network model, however, these models can hardly be improve further, given that we already use the best parameters. Meanwhile, the neural network stands a good chance of improving beyond this point. And since our interest lies in getting more accurate prediction, we will go with the neural network.\n",
    "- It is observed that the overall accuracy for both models goes up after I added more data points. \n",
    "- The accuracy shows slight fluctuations across different fitting attempts, but on average, the result is in the range [0.66 - 0.71], which is ~5-10% inccrease from the average of the results of the machine learning models I fitted (which is ~59-60%). Looking at the confusion matrix, the metrics within each category also improves.\n",
    "- Another source that might affect the predictive power of the model is the fact that a lot of categories (take health resources, health monitoring and health testing) share many words in common, so one of the next steps from here is to identify and develop a collection of stopwords that appear a lot across different categories to reduce the similarity between these categories and see if this increases the performance even further.\n",
    "\n",
    "Reference: https://www.youtube.com/watch?v=dkpS2g4K08s&t=775s"
   ],
   "metadata": {}
  }
 ],
 "metadata": {
  "kernelspec": {
   "display_name": "Python 3",
   "language": "python",
   "name": "python3"
  },
  "language_info": {
   "codemirror_mode": {
    "name": "ipython",
    "version": 3
   },
   "file_extension": ".py",
   "mimetype": "text/x-python",
   "name": "python",
   "nbconvert_exporter": "python",
   "pygments_lexer": "ipython3",
   "version": "3.7.6"
  }
 },
 "nbformat": 4,
 "nbformat_minor": 4
}