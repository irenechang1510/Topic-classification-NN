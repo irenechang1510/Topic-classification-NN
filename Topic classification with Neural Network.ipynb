{
 "cells": [
  {
   "cell_type": "markdown",
   "metadata": {},
   "source": [
    "# Topic classification with NN\n",
    "\n",
    "Steps:\n",
    "1. Web scrape information from coronanet.org\n",
    "2. Clean texts - get from coronanet project\n",
    "3. Learn RNN process to fit model (https://www.youtube.com/watch?v=dkpS2g4K08s)\n",
    "4. Get feedback"
   ]
  },
  {
   "cell_type": "code",
   "execution_count": 1,
   "metadata": {},
   "outputs": [],
   "source": [
    "from selenium import webdriver\n",
    "from parsel import Selector\n",
    "import time\n",
    "import tensorflow as tf\n",
    "import pandas as pd\n",
    "import numpy as np\n",
    "from sklearn.model_selection import train_test_split\n",
    "from sklearn.metrics import classification_report\n",
    "import tensorflow_hub as hub\n",
    "\n",
    "import nltk\n",
    "from nltk.corpus import stopwords\n",
    "from nltk.stem import WordNetLemmatizer\n",
    "from sklearn.feature_extraction.text import TfidfVectorizer\n",
    "from sklearn.model_selection import train_test_split\n",
    "import re\n",
    "import pycountry"
   ]
  },
  {
   "cell_type": "markdown",
   "metadata": {},
   "source": [
    "## 1. Webscrape info from github with selenium "
   ]
  },
  {
   "cell_type": "code",
   "execution_count": 2,
   "metadata": {},
   "outputs": [],
   "source": [
    "driver = webdriver.Chrome('/Users/irenechang/Downloads/chromedriver')\n",
    "driver.get('https://github.com/CoronaNetDataScience/corona_tscs/tree/master/data/CoronaNet/data_country/coronanet_release')"
   ]
  },
  {
   "cell_type": "code",
   "execution_count": 3,
   "metadata": {},
   "outputs": [
    {
     "name": "stdout",
     "output_type": "stream",
     "text": [
      "//a[@title='coronanet_release_Germany.csv']\n",
      "//a[@title='coronanet_release_United States of America.csv']\n",
      "//a[@title='coronanet_release_Spain.csv']\n",
      "//a[@title='coronanet_release_Australia.csv']\n",
      "//a[@title='coronanet_release_India.csv']\n"
     ]
    }
   ],
   "source": [
    "#Germany, USA, Spain, Australia\n",
    "country_names = ['Germany', 'United States of America', 'Spain', 'Australia', 'India']\n",
    "countries_to_scrape = []\n",
    "\n",
    "#parse string together\n",
    "for country in country_names:\n",
    "    countries_to_scrape.append(\"coronanet_release_\" + country + \".csv\")\n",
    "\n",
    "\n",
    "# go into each link - hit download\n",
    "# '/a[@title=\"coronanet_release_United States of America.csv\"]/@href'\n",
    "urls = []\n",
    "for country in countries_to_scrape:\n",
    "    xPath = \"//a[@title='\"+ country + \"']\"\n",
    "    print(xPath)\n",
    "    link = driver.find_element_by_xpath(xPath).get_attribute(\"href\")\n",
    "    urls.append(link)\n",
    "\n",
    "# get the csv\n",
    "csv_urls = []\n",
    "for url in urls:\n",
    "    driver.get(url)\n",
    "    sel = Selector(text=driver.page_source) # what is this for again?...\n",
    "    raw_csv = driver.find_element_by_id('raw-url').get_attribute(\"href\")\n",
    "    csv_urls.append(raw_csv)"
   ]
  },
  {
   "cell_type": "code",
   "execution_count": 4,
   "metadata": {},
   "outputs": [],
   "source": [
    "dfs = []\n",
    "for csv in csv_urls:\n",
    "    # read each csv into a separate dataframe\n",
    "    dfs.append(pd.read_csv(csv))\n",
    "\n",
    "big_frame = pd.concat(dfs, ignore_index=True)"
   ]
  },
  {
   "cell_type": "code",
   "execution_count": 5,
   "metadata": {},
   "outputs": [
    {
     "data": {
      "text/plain": [
       "(15252, 40)"
      ]
     },
     "execution_count": 5,
     "metadata": {},
     "output_type": "execute_result"
    }
   ],
   "source": [
    "big_frame.shape"
   ]
  },
  {
   "cell_type": "code",
   "execution_count": 6,
   "metadata": {},
   "outputs": [
    {
     "data": {
      "text/plain": [
       "Index(['record_id', 'policy_id', 'entry_type', 'correct_type', 'update_type',\n",
       "       'update_level', 'description', 'date_announced', 'date_start',\n",
       "       'date_end', 'country', 'ISO_A3', 'ISO_A2', 'init_country_level',\n",
       "       'domestic_policy', 'province', 'ISO_L2', 'city', 'type', 'type_sub_cat',\n",
       "       'type_text', 'institution_status', 'target_country',\n",
       "       'target_geog_level', 'target_region', 'target_province', 'target_city',\n",
       "       'target_other', 'target_who_what', 'target_direction',\n",
       "       'travel_mechanism', 'compliance', 'enforcer', 'dist_index_high_est',\n",
       "       'dist_index_med_est', 'dist_index_low_est', 'dist_index_country_rank',\n",
       "       'link', 'date_updated', 'recorded_date'],\n",
       "      dtype='object')"
      ]
     },
     "execution_count": 6,
     "metadata": {},
     "output_type": "execute_result"
    }
   ],
   "source": [
    "big_frame.columns"
   ]
  },
  {
   "cell_type": "code",
   "execution_count": 7,
   "metadata": {},
   "outputs": [
    {
     "data": {
      "text/html": [
       "<div>\n",
       "<style scoped>\n",
       "    .dataframe tbody tr th:only-of-type {\n",
       "        vertical-align: middle;\n",
       "    }\n",
       "\n",
       "    .dataframe tbody tr th {\n",
       "        vertical-align: top;\n",
       "    }\n",
       "\n",
       "    .dataframe thead th {\n",
       "        text-align: right;\n",
       "    }\n",
       "</style>\n",
       "<table border=\"1\" class=\"dataframe\">\n",
       "  <thead>\n",
       "    <tr style=\"text-align: right;\">\n",
       "      <th></th>\n",
       "      <th>record_id</th>\n",
       "      <th>policy_id</th>\n",
       "      <th>entry_type</th>\n",
       "      <th>correct_type</th>\n",
       "      <th>update_type</th>\n",
       "      <th>update_level</th>\n",
       "      <th>description</th>\n",
       "      <th>date_announced</th>\n",
       "      <th>date_start</th>\n",
       "      <th>date_end</th>\n",
       "      <th>...</th>\n",
       "      <th>travel_mechanism</th>\n",
       "      <th>compliance</th>\n",
       "      <th>enforcer</th>\n",
       "      <th>dist_index_high_est</th>\n",
       "      <th>dist_index_med_est</th>\n",
       "      <th>dist_index_low_est</th>\n",
       "      <th>dist_index_country_rank</th>\n",
       "      <th>link</th>\n",
       "      <th>date_updated</th>\n",
       "      <th>recorded_date</th>\n",
       "    </tr>\n",
       "  </thead>\n",
       "  <tbody>\n",
       "    <tr>\n",
       "      <th>0</th>\n",
       "      <td>R_DT9wJ6cfpACiXyVNA</td>\n",
       "      <td>1475054</td>\n",
       "      <td>new_entry</td>\n",
       "      <td>original</td>\n",
       "      <td>NaN</td>\n",
       "      <td>NaN</td>\n",
       "      <td>In Baden-Württemberg (Germany) the city of Stu...</td>\n",
       "      <td>2020-03-17</td>\n",
       "      <td>2020-03-17</td>\n",
       "      <td>2020-03-17</td>\n",
       "      <td>...</td>\n",
       "      <td>NaN</td>\n",
       "      <td>Mandatory (Unspecified/Implied)</td>\n",
       "      <td>Provincial/State Government</td>\n",
       "      <td>57.590903</td>\n",
       "      <td>54.734064</td>\n",
       "      <td>51.729718</td>\n",
       "      <td>102.0</td>\n",
       "      <td>https://www.stuttgarter-nachrichten.de/inhalt....</td>\n",
       "      <td>2020-08-22</td>\n",
       "      <td>2020-08-22T14:59:54Z</td>\n",
       "    </tr>\n",
       "    <tr>\n",
       "      <th>1</th>\n",
       "      <td>R_5p95bNFstNDs9UdNA</td>\n",
       "      <td>5717782</td>\n",
       "      <td>new_entry</td>\n",
       "      <td>original</td>\n",
       "      <td>NaN</td>\n",
       "      <td>NaN</td>\n",
       "      <td>Bremen (Germany) informs about fake news about...</td>\n",
       "      <td>2020-03-26</td>\n",
       "      <td>2020-03-26</td>\n",
       "      <td>2020-03-26</td>\n",
       "      <td>...</td>\n",
       "      <td>NaN</td>\n",
       "      <td>Mandatory (Unspecified/Implied)</td>\n",
       "      <td>Provincial/State Government</td>\n",
       "      <td>68.460588</td>\n",
       "      <td>65.451526</td>\n",
       "      <td>62.565660</td>\n",
       "      <td>90.0</td>\n",
       "      <td>https://www.bremen-innovativ.de/2020/03/fake-n...</td>\n",
       "      <td>2020-08-18</td>\n",
       "      <td>2020-08-18T06:45:40Z</td>\n",
       "    </tr>\n",
       "    <tr>\n",
       "      <th>2</th>\n",
       "      <td>R_2Qgl6LnVGJvdYioNA</td>\n",
       "      <td>6291168</td>\n",
       "      <td>new_entry</td>\n",
       "      <td>original</td>\n",
       "      <td>NaN</td>\n",
       "      <td>NaN</td>\n",
       "      <td>The Thuringia government introduces citizens t...</td>\n",
       "      <td>2020-03-30</td>\n",
       "      <td>2020-03-30</td>\n",
       "      <td>NaN</td>\n",
       "      <td>...</td>\n",
       "      <td>NaN</td>\n",
       "      <td>Voluntary/Recommended but No Penalties</td>\n",
       "      <td>Provincial/State Government</td>\n",
       "      <td>69.580439</td>\n",
       "      <td>66.680645</td>\n",
       "      <td>64.092800</td>\n",
       "      <td>80.0</td>\n",
       "      <td>https://corona.thueringen.de/buerger-soziales/...</td>\n",
       "      <td>2020-09-03</td>\n",
       "      <td>2020-09-03T13:35:20Z</td>\n",
       "    </tr>\n",
       "  </tbody>\n",
       "</table>\n",
       "<p>3 rows × 40 columns</p>\n",
       "</div>"
      ],
      "text/plain": [
       "             record_id policy_id entry_type correct_type update_type  \\\n",
       "0  R_DT9wJ6cfpACiXyVNA   1475054  new_entry     original         NaN   \n",
       "1  R_5p95bNFstNDs9UdNA   5717782  new_entry     original         NaN   \n",
       "2  R_2Qgl6LnVGJvdYioNA   6291168  new_entry     original         NaN   \n",
       "\n",
       "  update_level                                        description  \\\n",
       "0          NaN  In Baden-Württemberg (Germany) the city of Stu...   \n",
       "1          NaN  Bremen (Germany) informs about fake news about...   \n",
       "2          NaN  The Thuringia government introduces citizens t...   \n",
       "\n",
       "  date_announced  date_start    date_end  ... travel_mechanism  \\\n",
       "0     2020-03-17  2020-03-17  2020-03-17  ...              NaN   \n",
       "1     2020-03-26  2020-03-26  2020-03-26  ...              NaN   \n",
       "2     2020-03-30  2020-03-30         NaN  ...              NaN   \n",
       "\n",
       "                               compliance                     enforcer  \\\n",
       "0         Mandatory (Unspecified/Implied)  Provincial/State Government   \n",
       "1         Mandatory (Unspecified/Implied)  Provincial/State Government   \n",
       "2  Voluntary/Recommended but No Penalties  Provincial/State Government   \n",
       "\n",
       "  dist_index_high_est  dist_index_med_est dist_index_low_est  \\\n",
       "0           57.590903           54.734064          51.729718   \n",
       "1           68.460588           65.451526          62.565660   \n",
       "2           69.580439           66.680645          64.092800   \n",
       "\n",
       "  dist_index_country_rank                                               link  \\\n",
       "0                   102.0  https://www.stuttgarter-nachrichten.de/inhalt....   \n",
       "1                    90.0  https://www.bremen-innovativ.de/2020/03/fake-n...   \n",
       "2                    80.0  https://corona.thueringen.de/buerger-soziales/...   \n",
       "\n",
       "  date_updated         recorded_date  \n",
       "0   2020-08-22  2020-08-22T14:59:54Z  \n",
       "1   2020-08-18  2020-08-18T06:45:40Z  \n",
       "2   2020-09-03  2020-09-03T13:35:20Z  \n",
       "\n",
       "[3 rows x 40 columns]"
      ]
     },
     "execution_count": 7,
     "metadata": {},
     "output_type": "execute_result"
    }
   ],
   "source": [
    "big_frame.head(3)"
   ]
  },
  {
   "cell_type": "code",
   "execution_count": 8,
   "metadata": {},
   "outputs": [],
   "source": [
    "import gc\n",
    "gc.collect()\n",
    "del(dfs)"
   ]
  },
  {
   "cell_type": "code",
   "execution_count": 23,
   "metadata": {},
   "outputs": [],
   "source": [
    "df = big_frame[[\"description\", \"type\"]].drop_duplicates(subset=['description']).reset_index(drop=True)"
   ]
  },
  {
   "cell_type": "code",
   "execution_count": 24,
   "metadata": {},
   "outputs": [
    {
     "data": {
      "text/html": [
       "<div>\n",
       "<style scoped>\n",
       "    .dataframe tbody tr th:only-of-type {\n",
       "        vertical-align: middle;\n",
       "    }\n",
       "\n",
       "    .dataframe tbody tr th {\n",
       "        vertical-align: top;\n",
       "    }\n",
       "\n",
       "    .dataframe thead th {\n",
       "        text-align: right;\n",
       "    }\n",
       "</style>\n",
       "<table border=\"1\" class=\"dataframe\">\n",
       "  <thead>\n",
       "    <tr style=\"text-align: right;\">\n",
       "      <th></th>\n",
       "      <th>description</th>\n",
       "      <th>type</th>\n",
       "    </tr>\n",
       "  </thead>\n",
       "  <tbody>\n",
       "    <tr>\n",
       "      <th>0</th>\n",
       "      <td>In Baden-Württemberg (Germany) the city of Stu...</td>\n",
       "      <td>Anti-Disinformation Measures</td>\n",
       "    </tr>\n",
       "    <tr>\n",
       "      <th>1</th>\n",
       "      <td>Bremen (Germany) informs about fake news about...</td>\n",
       "      <td>Anti-Disinformation Measures</td>\n",
       "    </tr>\n",
       "    <tr>\n",
       "      <th>2</th>\n",
       "      <td>The Thuringia government introduces citizens t...</td>\n",
       "      <td>Anti-Disinformation Measures</td>\n",
       "    </tr>\n",
       "    <tr>\n",
       "      <th>3</th>\n",
       "      <td>On 4 May, The NRW State Criminal Police Office...</td>\n",
       "      <td>Anti-Disinformation Measures</td>\n",
       "    </tr>\n",
       "    <tr>\n",
       "      <th>4</th>\n",
       "      <td>Germany offers a website  with information aro...</td>\n",
       "      <td>Anti-Disinformation Measures</td>\n",
       "    </tr>\n",
       "    <tr>\n",
       "      <th>...</th>\n",
       "      <td>...</td>\n",
       "      <td>...</td>\n",
       "    </tr>\n",
       "    <tr>\n",
       "      <th>10086</th>\n",
       "      <td>India's Delhi metro largest subway reopens</td>\n",
       "      <td>Social Distancing</td>\n",
       "    </tr>\n",
       "    <tr>\n",
       "      <th>10087</th>\n",
       "      <td>In the state of Assam in India wearing face ma...</td>\n",
       "      <td>Social Distancing</td>\n",
       "    </tr>\n",
       "    <tr>\n",
       "      <th>10088</th>\n",
       "      <td>The state of Assam in India establishes a sop ...</td>\n",
       "      <td>Social Distancing</td>\n",
       "    </tr>\n",
       "    <tr>\n",
       "      <th>10089</th>\n",
       "      <td>The government of Goa in India on 20th Oct ann...</td>\n",
       "      <td>Social Distancing</td>\n",
       "    </tr>\n",
       "    <tr>\n",
       "      <th>10090</th>\n",
       "      <td>On 01-07-2021 Delhi province in India  issued ...</td>\n",
       "      <td>Social Distancing</td>\n",
       "    </tr>\n",
       "  </tbody>\n",
       "</table>\n",
       "<p>10091 rows × 2 columns</p>\n",
       "</div>"
      ],
      "text/plain": [
       "                                             description  \\\n",
       "0      In Baden-Württemberg (Germany) the city of Stu...   \n",
       "1      Bremen (Germany) informs about fake news about...   \n",
       "2      The Thuringia government introduces citizens t...   \n",
       "3      On 4 May, The NRW State Criminal Police Office...   \n",
       "4      Germany offers a website  with information aro...   \n",
       "...                                                  ...   \n",
       "10086         India's Delhi metro largest subway reopens   \n",
       "10087  In the state of Assam in India wearing face ma...   \n",
       "10088  The state of Assam in India establishes a sop ...   \n",
       "10089  The government of Goa in India on 20th Oct ann...   \n",
       "10090  On 01-07-2021 Delhi province in India  issued ...   \n",
       "\n",
       "                               type  \n",
       "0      Anti-Disinformation Measures  \n",
       "1      Anti-Disinformation Measures  \n",
       "2      Anti-Disinformation Measures  \n",
       "3      Anti-Disinformation Measures  \n",
       "4      Anti-Disinformation Measures  \n",
       "...                             ...  \n",
       "10086             Social Distancing  \n",
       "10087             Social Distancing  \n",
       "10088             Social Distancing  \n",
       "10089             Social Distancing  \n",
       "10090             Social Distancing  \n",
       "\n",
       "[10091 rows x 2 columns]"
      ]
     },
     "execution_count": 24,
     "metadata": {},
     "output_type": "execute_result"
    }
   ],
   "source": [
    "df"
   ]
  },
  {
   "cell_type": "code",
   "execution_count": 25,
   "metadata": {},
   "outputs": [
    {
     "data": {
      "text/plain": [
       "Restriction and Regulation of Businesses                  1635\n",
       "Restrictions of Mass Gatherings                           1048\n",
       "Health Resources                                          1027\n",
       "Closure and Regulation of Schools                          739\n",
       "Restriction and Regulation of Government Services          726\n",
       "Social Distancing                                          704\n",
       "Quarantine                                                 702\n",
       "Other Policy Not Listed Above                              608\n",
       "Lockdown                                                   477\n",
       "Public Awareness Measures                                  430\n",
       "Health Testing                                             385\n",
       "Declaration of Emergency                                   339\n",
       "New Task Force, Bureau or Administrative Configuration     281\n",
       "External Border Restrictions                               234\n",
       "Internal Border Restrictions                               181\n",
       "Health Monitoring                                          171\n",
       "Curfew                                                     158\n",
       "Hygiene                                                    153\n",
       "Anti-Disinformation Measures                                50\n",
       "COVID-19 Vaccines                                           43\n",
       "Name: type, dtype: int64"
      ]
     },
     "execution_count": 25,
     "metadata": {},
     "output_type": "execute_result"
    }
   ],
   "source": [
    "df['type'].value_counts()"
   ]
  },
  {
   "cell_type": "markdown",
   "metadata": {},
   "source": [
    "## 2. Preprocess text data"
   ]
  },
  {
   "cell_type": "code",
   "execution_count": 26,
   "metadata": {},
   "outputs": [],
   "source": [
    "# Special characters and punctuation\n",
    "punc_list = list(\"?:!.,;()\")\n",
    "df[\"description_1\"] = df[\"description\"].str.replace(\"\\n\", \" \")\n",
    "df[\"description_1\"] = df[\"description_1\"].str.replace('\"', \" \")\n",
    "df[\"description_1\"] = df[\"description_1\"].str.replace(\"'s\", \" \")\n",
    "for punc in punc_list:\n",
    "    df[\"description_1\"] = df[\"description_1\"].str.replace(punc, \" \")\n",
    "    \n",
    "#lowering cases\n",
    "df[\"description_1\"] = df[\"description_1\"].str.lower()"
   ]
  },
  {
   "cell_type": "code",
   "execution_count": 27,
   "metadata": {},
   "outputs": [
    {
     "data": {
      "text/html": [
       "<div>\n",
       "<style scoped>\n",
       "    .dataframe tbody tr th:only-of-type {\n",
       "        vertical-align: middle;\n",
       "    }\n",
       "\n",
       "    .dataframe tbody tr th {\n",
       "        vertical-align: top;\n",
       "    }\n",
       "\n",
       "    .dataframe thead th {\n",
       "        text-align: right;\n",
       "    }\n",
       "</style>\n",
       "<table border=\"1\" class=\"dataframe\">\n",
       "  <thead>\n",
       "    <tr style=\"text-align: right;\">\n",
       "      <th></th>\n",
       "      <th>description</th>\n",
       "      <th>type</th>\n",
       "      <th>description_1</th>\n",
       "    </tr>\n",
       "  </thead>\n",
       "  <tbody>\n",
       "    <tr>\n",
       "      <th>0</th>\n",
       "      <td>In Baden-Württemberg (Germany) the city of Stu...</td>\n",
       "      <td>Anti-Disinformation Measures</td>\n",
       "      <td>in baden-württemberg  germany  the city of stu...</td>\n",
       "    </tr>\n",
       "    <tr>\n",
       "      <th>1</th>\n",
       "      <td>Bremen (Germany) informs about fake news about...</td>\n",
       "      <td>Anti-Disinformation Measures</td>\n",
       "      <td>bremen  germany  informs about fake news about...</td>\n",
       "    </tr>\n",
       "    <tr>\n",
       "      <th>2</th>\n",
       "      <td>The Thuringia government introduces citizens t...</td>\n",
       "      <td>Anti-Disinformation Measures</td>\n",
       "      <td>the thuringia government introduces citizens t...</td>\n",
       "    </tr>\n",
       "    <tr>\n",
       "      <th>3</th>\n",
       "      <td>On 4 May, The NRW State Criminal Police Office...</td>\n",
       "      <td>Anti-Disinformation Measures</td>\n",
       "      <td>on 4 may  the nrw state criminal police office...</td>\n",
       "    </tr>\n",
       "    <tr>\n",
       "      <th>4</th>\n",
       "      <td>Germany offers a website  with information aro...</td>\n",
       "      <td>Anti-Disinformation Measures</td>\n",
       "      <td>germany offers a website  with information aro...</td>\n",
       "    </tr>\n",
       "    <tr>\n",
       "      <th>...</th>\n",
       "      <td>...</td>\n",
       "      <td>...</td>\n",
       "      <td>...</td>\n",
       "    </tr>\n",
       "    <tr>\n",
       "      <th>10086</th>\n",
       "      <td>India's Delhi metro largest subway reopens</td>\n",
       "      <td>Social Distancing</td>\n",
       "      <td>india  delhi metro largest subway reopens</td>\n",
       "    </tr>\n",
       "    <tr>\n",
       "      <th>10087</th>\n",
       "      <td>In the state of Assam in India wearing face ma...</td>\n",
       "      <td>Social Distancing</td>\n",
       "      <td>in the state of assam in india wearing face ma...</td>\n",
       "    </tr>\n",
       "    <tr>\n",
       "      <th>10088</th>\n",
       "      <td>The state of Assam in India establishes a sop ...</td>\n",
       "      <td>Social Distancing</td>\n",
       "      <td>the state of assam in india establishes a sop ...</td>\n",
       "    </tr>\n",
       "    <tr>\n",
       "      <th>10089</th>\n",
       "      <td>The government of Goa in India on 20th Oct ann...</td>\n",
       "      <td>Social Distancing</td>\n",
       "      <td>the government of goa in india on 20th oct ann...</td>\n",
       "    </tr>\n",
       "    <tr>\n",
       "      <th>10090</th>\n",
       "      <td>On 01-07-2021 Delhi province in India  issued ...</td>\n",
       "      <td>Social Distancing</td>\n",
       "      <td>on 01-07-2021 delhi province in india  issued ...</td>\n",
       "    </tr>\n",
       "  </tbody>\n",
       "</table>\n",
       "<p>10091 rows × 3 columns</p>\n",
       "</div>"
      ],
      "text/plain": [
       "                                             description  \\\n",
       "0      In Baden-Württemberg (Germany) the city of Stu...   \n",
       "1      Bremen (Germany) informs about fake news about...   \n",
       "2      The Thuringia government introduces citizens t...   \n",
       "3      On 4 May, The NRW State Criminal Police Office...   \n",
       "4      Germany offers a website  with information aro...   \n",
       "...                                                  ...   \n",
       "10086         India's Delhi metro largest subway reopens   \n",
       "10087  In the state of Assam in India wearing face ma...   \n",
       "10088  The state of Assam in India establishes a sop ...   \n",
       "10089  The government of Goa in India on 20th Oct ann...   \n",
       "10090  On 01-07-2021 Delhi province in India  issued ...   \n",
       "\n",
       "                               type  \\\n",
       "0      Anti-Disinformation Measures   \n",
       "1      Anti-Disinformation Measures   \n",
       "2      Anti-Disinformation Measures   \n",
       "3      Anti-Disinformation Measures   \n",
       "4      Anti-Disinformation Measures   \n",
       "...                             ...   \n",
       "10086             Social Distancing   \n",
       "10087             Social Distancing   \n",
       "10088             Social Distancing   \n",
       "10089             Social Distancing   \n",
       "10090             Social Distancing   \n",
       "\n",
       "                                           description_1  \n",
       "0      in baden-württemberg  germany  the city of stu...  \n",
       "1      bremen  germany  informs about fake news about...  \n",
       "2      the thuringia government introduces citizens t...  \n",
       "3      on 4 may  the nrw state criminal police office...  \n",
       "4      germany offers a website  with information aro...  \n",
       "...                                                  ...  \n",
       "10086          india  delhi metro largest subway reopens  \n",
       "10087  in the state of assam in india wearing face ma...  \n",
       "10088  the state of assam in india establishes a sop ...  \n",
       "10089  the government of goa in india on 20th oct ann...  \n",
       "10090  on 01-07-2021 delhi province in india  issued ...  \n",
       "\n",
       "[10091 rows x 3 columns]"
      ]
     },
     "execution_count": 27,
     "metadata": {},
     "output_type": "execute_result"
    }
   ],
   "source": [
    "df"
   ]
  },
  {
   "cell_type": "code",
   "execution_count": 29,
   "metadata": {},
   "outputs": [],
   "source": [
    "#stemming and lemmatization\n",
    "nltk.download('punkt')\n",
    "nltk.download('wordnet')\n",
    "\n",
    "wordnet_lemmatizer = WordNetLemmatizer()\n",
    "nrows = len(df)\n",
    "lemmatized_text_list = []\n",
    "\n",
    "for row in range(0, nrows):\n",
    "    \n",
    "    # Create an empty list containing lemmatized words\n",
    "    lemmatized_list = []\n",
    "    \n",
    "    # Save the text and its words into an object\n",
    "    text = df.loc[row]['description_1']\n",
    "    text_words = text.split(\" \")\n",
    "\n",
    "    # Iterate through every word to lemmatize\n",
    "    for word in text_words:\n",
    "        lemmatized_list.append(wordnet_lemmatizer.lemmatize(word, pos=\"v\"))\n",
    "        \n",
    "    # Join the list\n",
    "    lemmatized_text = \" \".join(lemmatized_list)\n",
    "    \n",
    "    # Append to the list containing the texts\n",
    "    lemmatized_text_list.append(lemmatized_text)\n"
   ]
  },
  {
   "cell_type": "code",
   "execution_count": 30,
   "metadata": {},
   "outputs": [
    {
     "name": "stderr",
     "output_type": "stream",
     "text": [
      "[nltk_data] Downloading package stopwords to\n",
      "[nltk_data]     /Users/irenechang/nltk_data...\n",
      "[nltk_data]   Package stopwords is already up-to-date!\n"
     ]
    }
   ],
   "source": [
    "#stopwords\n",
    "nltk.download('stopwords')\n",
    "stop_words = list(stopwords.words('english'))\n",
    "\n",
    "# include country names in stopwords\n",
    "country_text = []\n",
    "for text in df[\"description_1\"].tolist():\n",
    "    for c in pycountry.countries:\n",
    "        if c.name.lower() in text:\n",
    "            text = re.sub(c.name.lower(), '', text)\n",
    "    country_text.append(text)\n",
    "\n",
    "df[\"description_2\"] = country_text\n",
    "\n",
    "for stop_word in stop_words:\n",
    "\n",
    "    regex_stopword = r\"\\b\" + stop_word + r\"\\b\"\n",
    "    df['description_2'] = df['description_2'].str.replace(regex_stopword, '')"
   ]
  },
  {
   "cell_type": "code",
   "execution_count": 31,
   "metadata": {},
   "outputs": [
    {
     "data": {
      "text/html": [
       "<div>\n",
       "<style scoped>\n",
       "    .dataframe tbody tr th:only-of-type {\n",
       "        vertical-align: middle;\n",
       "    }\n",
       "\n",
       "    .dataframe tbody tr th {\n",
       "        vertical-align: top;\n",
       "    }\n",
       "\n",
       "    .dataframe thead th {\n",
       "        text-align: right;\n",
       "    }\n",
       "</style>\n",
       "<table border=\"1\" class=\"dataframe\">\n",
       "  <thead>\n",
       "    <tr style=\"text-align: right;\">\n",
       "      <th></th>\n",
       "      <th>description</th>\n",
       "      <th>type</th>\n",
       "      <th>description_1</th>\n",
       "      <th>description_2</th>\n",
       "      <th>description_3</th>\n",
       "    </tr>\n",
       "  </thead>\n",
       "  <tbody>\n",
       "    <tr>\n",
       "      <th>0</th>\n",
       "      <td>In Baden-Württemberg (Germany) the city of Stu...</td>\n",
       "      <td>Anti-Disinformation Measures</td>\n",
       "      <td>in baden-württemberg  germany  the city of stu...</td>\n",
       "      <td>baden-württemberg     city  stuttgart warns  ...</td>\n",
       "      <td>baden-württemberg     city  stuttgart warns  ...</td>\n",
       "    </tr>\n",
       "    <tr>\n",
       "      <th>1</th>\n",
       "      <td>Bremen (Germany) informs about fake news about...</td>\n",
       "      <td>Anti-Disinformation Measures</td>\n",
       "      <td>bremen  germany  informs about fake news about...</td>\n",
       "      <td>bremen    informs  fake news  covid-19  march 26</td>\n",
       "      <td>bremen    informs  fake news  covid-  march</td>\n",
       "    </tr>\n",
       "    <tr>\n",
       "      <th>2</th>\n",
       "      <td>The Thuringia government introduces citizens t...</td>\n",
       "      <td>Anti-Disinformation Measures</td>\n",
       "      <td>the thuringia government introduces citizens t...</td>\n",
       "      <td>thuringia government introduces citizens   ov...</td>\n",
       "      <td>thuringia government introduces citizens   ov...</td>\n",
       "    </tr>\n",
       "    <tr>\n",
       "      <th>3</th>\n",
       "      <td>On 4 May, The NRW State Criminal Police Office...</td>\n",
       "      <td>Anti-Disinformation Measures</td>\n",
       "      <td>on 4 may  the nrw state criminal police office...</td>\n",
       "      <td>4 may   nrw state criminal police office  lka...</td>\n",
       "      <td>may   nrw state criminal police office  lka ...</td>\n",
       "    </tr>\n",
       "    <tr>\n",
       "      <th>4</th>\n",
       "      <td>Germany offers a website  with information aro...</td>\n",
       "      <td>Anti-Disinformation Measures</td>\n",
       "      <td>germany offers a website  with information aro...</td>\n",
       "      <td>offers  website   information around fake new...</td>\n",
       "      <td>offers  website   information around fake new...</td>\n",
       "    </tr>\n",
       "    <tr>\n",
       "      <th>...</th>\n",
       "      <td>...</td>\n",
       "      <td>...</td>\n",
       "      <td>...</td>\n",
       "      <td>...</td>\n",
       "      <td>...</td>\n",
       "    </tr>\n",
       "    <tr>\n",
       "      <th>10086</th>\n",
       "      <td>India's Delhi metro largest subway reopens</td>\n",
       "      <td>Social Distancing</td>\n",
       "      <td>india  delhi metro largest subway reopens</td>\n",
       "      <td>delhi metro largest subway reopens</td>\n",
       "      <td>delhi metro largest subway reopens</td>\n",
       "    </tr>\n",
       "    <tr>\n",
       "      <th>10087</th>\n",
       "      <td>In the state of Assam in India wearing face ma...</td>\n",
       "      <td>Social Distancing</td>\n",
       "      <td>in the state of assam in india wearing face ma...</td>\n",
       "      <td>state  assam   wearing face masks  social di...</td>\n",
       "      <td>state  assam   wearing face masks  social di...</td>\n",
       "    </tr>\n",
       "    <tr>\n",
       "      <th>10088</th>\n",
       "      <td>The state of Assam in India establishes a sop ...</td>\n",
       "      <td>Social Distancing</td>\n",
       "      <td>the state of assam in india establishes a sop ...</td>\n",
       "      <td>state  assam   establishes  sop  cinemas   pu...</td>\n",
       "      <td>state  assam   establishes  sop  cinemas   pu...</td>\n",
       "    </tr>\n",
       "    <tr>\n",
       "      <th>10089</th>\n",
       "      <td>The government of Goa in India on 20th Oct ann...</td>\n",
       "      <td>Social Distancing</td>\n",
       "      <td>the government of goa in india on 20th oct ann...</td>\n",
       "      <td>government  goa    20th oct announced  partie...</td>\n",
       "      <td>government  goa    th oct announced  parties ...</td>\n",
       "    </tr>\n",
       "    <tr>\n",
       "      <th>10090</th>\n",
       "      <td>On 01-07-2021 Delhi province in India  issued ...</td>\n",
       "      <td>Social Distancing</td>\n",
       "      <td>on 01-07-2021 delhi province in india  issued ...</td>\n",
       "      <td>01-07-2021 delhi province    issued  order re...</td>\n",
       "      <td>-- delhi province    issued  order regarding ...</td>\n",
       "    </tr>\n",
       "  </tbody>\n",
       "</table>\n",
       "<p>10091 rows × 5 columns</p>\n",
       "</div>"
      ],
      "text/plain": [
       "                                             description  \\\n",
       "0      In Baden-Württemberg (Germany) the city of Stu...   \n",
       "1      Bremen (Germany) informs about fake news about...   \n",
       "2      The Thuringia government introduces citizens t...   \n",
       "3      On 4 May, The NRW State Criminal Police Office...   \n",
       "4      Germany offers a website  with information aro...   \n",
       "...                                                  ...   \n",
       "10086         India's Delhi metro largest subway reopens   \n",
       "10087  In the state of Assam in India wearing face ma...   \n",
       "10088  The state of Assam in India establishes a sop ...   \n",
       "10089  The government of Goa in India on 20th Oct ann...   \n",
       "10090  On 01-07-2021 Delhi province in India  issued ...   \n",
       "\n",
       "                               type  \\\n",
       "0      Anti-Disinformation Measures   \n",
       "1      Anti-Disinformation Measures   \n",
       "2      Anti-Disinformation Measures   \n",
       "3      Anti-Disinformation Measures   \n",
       "4      Anti-Disinformation Measures   \n",
       "...                             ...   \n",
       "10086             Social Distancing   \n",
       "10087             Social Distancing   \n",
       "10088             Social Distancing   \n",
       "10089             Social Distancing   \n",
       "10090             Social Distancing   \n",
       "\n",
       "                                           description_1  \\\n",
       "0      in baden-württemberg  germany  the city of stu...   \n",
       "1      bremen  germany  informs about fake news about...   \n",
       "2      the thuringia government introduces citizens t...   \n",
       "3      on 4 may  the nrw state criminal police office...   \n",
       "4      germany offers a website  with information aro...   \n",
       "...                                                  ...   \n",
       "10086          india  delhi metro largest subway reopens   \n",
       "10087  in the state of assam in india wearing face ma...   \n",
       "10088  the state of assam in india establishes a sop ...   \n",
       "10089  the government of goa in india on 20th oct ann...   \n",
       "10090  on 01-07-2021 delhi province in india  issued ...   \n",
       "\n",
       "                                           description_2  \\\n",
       "0       baden-württemberg     city  stuttgart warns  ...   \n",
       "1      bremen    informs  fake news  covid-19  march 26    \n",
       "2       thuringia government introduces citizens   ov...   \n",
       "3       4 may   nrw state criminal police office  lka...   \n",
       "4       offers  website   information around fake new...   \n",
       "...                                                  ...   \n",
       "10086                 delhi metro largest subway reopens   \n",
       "10087    state  assam   wearing face masks  social di...   \n",
       "10088   state  assam   establishes  sop  cinemas   pu...   \n",
       "10089   government  goa    20th oct announced  partie...   \n",
       "10090   01-07-2021 delhi province    issued  order re...   \n",
       "\n",
       "                                           description_3  \n",
       "0       baden-württemberg     city  stuttgart warns  ...  \n",
       "1          bremen    informs  fake news  covid-  march    \n",
       "2       thuringia government introduces citizens   ov...  \n",
       "3        may   nrw state criminal police office  lka ...  \n",
       "4       offers  website   information around fake new...  \n",
       "...                                                  ...  \n",
       "10086                 delhi metro largest subway reopens  \n",
       "10087    state  assam   wearing face masks  social di...  \n",
       "10088   state  assam   establishes  sop  cinemas   pu...  \n",
       "10089   government  goa    th oct announced  parties ...  \n",
       "10090   -- delhi province    issued  order regarding ...  \n",
       "\n",
       "[10091 rows x 5 columns]"
      ]
     },
     "execution_count": 31,
     "metadata": {},
     "output_type": "execute_result"
    }
   ],
   "source": [
    "#remove numbers\n",
    "pattern = r'[0-9]'\n",
    "remove_number = []\n",
    "for text in df[\"description_2\"].tolist():\n",
    "    remove_number.append(re.sub(pattern, '', text))\n",
    "    \n",
    "df[\"description_3\"] = remove_number\n",
    "df"
   ]
  },
  {
   "cell_type": "code",
   "execution_count": 32,
   "metadata": {},
   "outputs": [],
   "source": [
    "list_columns = [\"description_3\", \"type\"]\n",
    "df2 = df[list_columns]\n",
    "\n",
    "df2 = df2.rename(columns={'description_3': 'description'})"
   ]
  },
  {
   "cell_type": "code",
   "execution_count": 33,
   "metadata": {},
   "outputs": [
    {
     "data": {
      "text/html": [
       "<div>\n",
       "<style scoped>\n",
       "    .dataframe tbody tr th:only-of-type {\n",
       "        vertical-align: middle;\n",
       "    }\n",
       "\n",
       "    .dataframe tbody tr th {\n",
       "        vertical-align: top;\n",
       "    }\n",
       "\n",
       "    .dataframe thead th {\n",
       "        text-align: right;\n",
       "    }\n",
       "</style>\n",
       "<table border=\"1\" class=\"dataframe\">\n",
       "  <thead>\n",
       "    <tr style=\"text-align: right;\">\n",
       "      <th></th>\n",
       "      <th>description</th>\n",
       "      <th>type</th>\n",
       "    </tr>\n",
       "  </thead>\n",
       "  <tbody>\n",
       "    <tr>\n",
       "      <th>0</th>\n",
       "      <td>baden-württemberg     city  stuttgart warns  ...</td>\n",
       "      <td>Anti-Disinformation Measures</td>\n",
       "    </tr>\n",
       "    <tr>\n",
       "      <th>1</th>\n",
       "      <td>bremen    informs  fake news  covid-  march</td>\n",
       "      <td>Anti-Disinformation Measures</td>\n",
       "    </tr>\n",
       "    <tr>\n",
       "      <th>2</th>\n",
       "      <td>thuringia government introduces citizens   ov...</td>\n",
       "      <td>Anti-Disinformation Measures</td>\n",
       "    </tr>\n",
       "    <tr>\n",
       "      <th>3</th>\n",
       "      <td>may   nrw state criminal police office  lka ...</td>\n",
       "      <td>Anti-Disinformation Measures</td>\n",
       "    </tr>\n",
       "    <tr>\n",
       "      <th>4</th>\n",
       "      <td>offers  website   information around fake new...</td>\n",
       "      <td>Anti-Disinformation Measures</td>\n",
       "    </tr>\n",
       "    <tr>\n",
       "      <th>...</th>\n",
       "      <td>...</td>\n",
       "      <td>...</td>\n",
       "    </tr>\n",
       "    <tr>\n",
       "      <th>10086</th>\n",
       "      <td>delhi metro largest subway reopens</td>\n",
       "      <td>Social Distancing</td>\n",
       "    </tr>\n",
       "    <tr>\n",
       "      <th>10087</th>\n",
       "      <td>state  assam   wearing face masks  social di...</td>\n",
       "      <td>Social Distancing</td>\n",
       "    </tr>\n",
       "    <tr>\n",
       "      <th>10088</th>\n",
       "      <td>state  assam   establishes  sop  cinemas   pu...</td>\n",
       "      <td>Social Distancing</td>\n",
       "    </tr>\n",
       "    <tr>\n",
       "      <th>10089</th>\n",
       "      <td>government  goa    th oct announced  parties ...</td>\n",
       "      <td>Social Distancing</td>\n",
       "    </tr>\n",
       "    <tr>\n",
       "      <th>10090</th>\n",
       "      <td>-- delhi province    issued  order regarding ...</td>\n",
       "      <td>Social Distancing</td>\n",
       "    </tr>\n",
       "  </tbody>\n",
       "</table>\n",
       "<p>10091 rows × 2 columns</p>\n",
       "</div>"
      ],
      "text/plain": [
       "                                             description  \\\n",
       "0       baden-württemberg     city  stuttgart warns  ...   \n",
       "1          bremen    informs  fake news  covid-  march     \n",
       "2       thuringia government introduces citizens   ov...   \n",
       "3        may   nrw state criminal police office  lka ...   \n",
       "4       offers  website   information around fake new...   \n",
       "...                                                  ...   \n",
       "10086                 delhi metro largest subway reopens   \n",
       "10087    state  assam   wearing face masks  social di...   \n",
       "10088   state  assam   establishes  sop  cinemas   pu...   \n",
       "10089   government  goa    th oct announced  parties ...   \n",
       "10090   -- delhi province    issued  order regarding ...   \n",
       "\n",
       "                               type  \n",
       "0      Anti-Disinformation Measures  \n",
       "1      Anti-Disinformation Measures  \n",
       "2      Anti-Disinformation Measures  \n",
       "3      Anti-Disinformation Measures  \n",
       "4      Anti-Disinformation Measures  \n",
       "...                             ...  \n",
       "10086             Social Distancing  \n",
       "10087             Social Distancing  \n",
       "10088             Social Distancing  \n",
       "10089             Social Distancing  \n",
       "10090             Social Distancing  \n",
       "\n",
       "[10091 rows x 2 columns]"
      ]
     },
     "execution_count": 33,
     "metadata": {},
     "output_type": "execute_result"
    }
   ],
   "source": [
    "df2"
   ]
  },
  {
   "cell_type": "markdown",
   "metadata": {},
   "source": [
    "#### Label encoding"
   ]
  },
  {
   "cell_type": "code",
   "execution_count": 47,
   "metadata": {},
   "outputs": [
    {
     "data": {
      "text/html": [
       "<div>\n",
       "<style scoped>\n",
       "    .dataframe tbody tr th:only-of-type {\n",
       "        vertical-align: middle;\n",
       "    }\n",
       "\n",
       "    .dataframe tbody tr th {\n",
       "        vertical-align: top;\n",
       "    }\n",
       "\n",
       "    .dataframe thead th {\n",
       "        text-align: right;\n",
       "    }\n",
       "</style>\n",
       "<table border=\"1\" class=\"dataframe\">\n",
       "  <thead>\n",
       "    <tr style=\"text-align: right;\">\n",
       "      <th></th>\n",
       "      <th>description</th>\n",
       "      <th>type</th>\n",
       "      <th>type_code</th>\n",
       "    </tr>\n",
       "  </thead>\n",
       "  <tbody>\n",
       "    <tr>\n",
       "      <th>0</th>\n",
       "      <td>baden-württemberg     city  stuttgart warns  ...</td>\n",
       "      <td>Anti-Disinformation Measures</td>\n",
       "      <td>0</td>\n",
       "    </tr>\n",
       "    <tr>\n",
       "      <th>1</th>\n",
       "      <td>bremen    informs  fake news  covid-  march</td>\n",
       "      <td>Anti-Disinformation Measures</td>\n",
       "      <td>0</td>\n",
       "    </tr>\n",
       "    <tr>\n",
       "      <th>2</th>\n",
       "      <td>thuringia government introduces citizens   ov...</td>\n",
       "      <td>Anti-Disinformation Measures</td>\n",
       "      <td>0</td>\n",
       "    </tr>\n",
       "    <tr>\n",
       "      <th>3</th>\n",
       "      <td>may   nrw state criminal police office  lka ...</td>\n",
       "      <td>Anti-Disinformation Measures</td>\n",
       "      <td>0</td>\n",
       "    </tr>\n",
       "    <tr>\n",
       "      <th>4</th>\n",
       "      <td>offers  website   information around fake new...</td>\n",
       "      <td>Anti-Disinformation Measures</td>\n",
       "      <td>0</td>\n",
       "    </tr>\n",
       "  </tbody>\n",
       "</table>\n",
       "</div>"
      ],
      "text/plain": [
       "                                         description  \\\n",
       "0   baden-württemberg     city  stuttgart warns  ...   \n",
       "1      bremen    informs  fake news  covid-  march     \n",
       "2   thuringia government introduces citizens   ov...   \n",
       "3    may   nrw state criminal police office  lka ...   \n",
       "4   offers  website   information around fake new...   \n",
       "\n",
       "                           type type_code  \n",
       "0  Anti-Disinformation Measures         0  \n",
       "1  Anti-Disinformation Measures         0  \n",
       "2  Anti-Disinformation Measures         0  \n",
       "3  Anti-Disinformation Measures         0  \n",
       "4  Anti-Disinformation Measures         0  "
      ]
     },
     "execution_count": 47,
     "metadata": {},
     "output_type": "execute_result"
    }
   ],
   "source": [
    "category_codes = {\n",
    "    'Anti-Disinformation Measures': 0,\n",
    "    'Hygiene': 1,\n",
    "    'Curfew': 2,\n",
    "    'Closure and Regulation of Schools': 3,\n",
    "    'Declaration of Emergency': 4,\n",
    "    'External Border Restrictions': 5,\n",
    "    'Health Monitoring': 6,\n",
    "    'Health Resources': 7,\n",
    "    'Health Testing': 8,\n",
    "    'Internal Border Restrictions': 9,\n",
    "    'Lockdown': 10,\n",
    "    'New Task Force, Bureau or Administrative Configuration': 11,\n",
    "    'COVID-19 Vaccines': 12,\n",
    "    'Public Awareness Measures': 13,\n",
    "    'Quarantine': 14,\n",
    "    'Restriction and Regulation of Businesses': 15,\n",
    "    'Restriction and Regulation of Government Services': 16,\n",
    "    'Restrictions of Mass Gatherings':17,\n",
    "    'Social Distancing':18\n",
    "}\n",
    "\n",
    "# Category mapping\n",
    "df2['type_code'] = df2['type']\n",
    "df2 = df2.replace({'type_code':category_codes})\n",
    "\n",
    "df2.head()"
   ]
  },
  {
   "cell_type": "markdown",
   "metadata": {},
   "source": [
    "#### Split train-test sets"
   ]
  },
  {
   "cell_type": "code",
   "execution_count": 35,
   "metadata": {},
   "outputs": [],
   "source": [
    "# imbalanced -- have to assign class weights\n",
    "df2['type'].value_counts()\n",
    "\n",
    "# split train - test\n",
    "X_train, X_test, y_train, y_test = train_test_split(df2['description'], \n",
    "                                                    df2['type'], \n",
    "                                                    test_size=0.15, \n",
    "                                                    random_state=8)"
   ]
  },
  {
   "cell_type": "code",
   "execution_count": 62,
   "metadata": {},
   "outputs": [
    {
     "data": {
      "text/html": [
       "<div>\n",
       "<style scoped>\n",
       "    .dataframe tbody tr th:only-of-type {\n",
       "        vertical-align: middle;\n",
       "    }\n",
       "\n",
       "    .dataframe tbody tr th {\n",
       "        vertical-align: top;\n",
       "    }\n",
       "\n",
       "    .dataframe thead th {\n",
       "        text-align: right;\n",
       "    }\n",
       "</style>\n",
       "<table border=\"1\" class=\"dataframe\">\n",
       "  <thead>\n",
       "    <tr style=\"text-align: right;\">\n",
       "      <th></th>\n",
       "      <th>description</th>\n",
       "      <th>type</th>\n",
       "      <th>type_code</th>\n",
       "    </tr>\n",
       "  </thead>\n",
       "  <tbody>\n",
       "    <tr>\n",
       "      <th>0</th>\n",
       "      <td>baden-württemberg     city  stuttgart warns  ...</td>\n",
       "      <td>Anti-Disinformation Measures</td>\n",
       "      <td>0</td>\n",
       "    </tr>\n",
       "    <tr>\n",
       "      <th>1</th>\n",
       "      <td>bremen    informs  fake news  covid-  march</td>\n",
       "      <td>Anti-Disinformation Measures</td>\n",
       "      <td>0</td>\n",
       "    </tr>\n",
       "    <tr>\n",
       "      <th>2</th>\n",
       "      <td>thuringia government introduces citizens   ov...</td>\n",
       "      <td>Anti-Disinformation Measures</td>\n",
       "      <td>0</td>\n",
       "    </tr>\n",
       "    <tr>\n",
       "      <th>3</th>\n",
       "      <td>may   nrw state criminal police office  lka ...</td>\n",
       "      <td>Anti-Disinformation Measures</td>\n",
       "      <td>0</td>\n",
       "    </tr>\n",
       "    <tr>\n",
       "      <th>4</th>\n",
       "      <td>offers  website   information around fake new...</td>\n",
       "      <td>Anti-Disinformation Measures</td>\n",
       "      <td>0</td>\n",
       "    </tr>\n",
       "    <tr>\n",
       "      <th>...</th>\n",
       "      <td>...</td>\n",
       "      <td>...</td>\n",
       "      <td>...</td>\n",
       "    </tr>\n",
       "    <tr>\n",
       "      <th>10086</th>\n",
       "      <td>delhi metro largest subway reopens</td>\n",
       "      <td>Social Distancing</td>\n",
       "      <td>18</td>\n",
       "    </tr>\n",
       "    <tr>\n",
       "      <th>10087</th>\n",
       "      <td>state  assam   wearing face masks  social di...</td>\n",
       "      <td>Social Distancing</td>\n",
       "      <td>18</td>\n",
       "    </tr>\n",
       "    <tr>\n",
       "      <th>10088</th>\n",
       "      <td>state  assam   establishes  sop  cinemas   pu...</td>\n",
       "      <td>Social Distancing</td>\n",
       "      <td>18</td>\n",
       "    </tr>\n",
       "    <tr>\n",
       "      <th>10089</th>\n",
       "      <td>government  goa    th oct announced  parties ...</td>\n",
       "      <td>Social Distancing</td>\n",
       "      <td>18</td>\n",
       "    </tr>\n",
       "    <tr>\n",
       "      <th>10090</th>\n",
       "      <td>-- delhi province    issued  order regarding ...</td>\n",
       "      <td>Social Distancing</td>\n",
       "      <td>18</td>\n",
       "    </tr>\n",
       "  </tbody>\n",
       "</table>\n",
       "<p>10091 rows × 3 columns</p>\n",
       "</div>"
      ],
      "text/plain": [
       "                                             description  \\\n",
       "0       baden-württemberg     city  stuttgart warns  ...   \n",
       "1          bremen    informs  fake news  covid-  march     \n",
       "2       thuringia government introduces citizens   ov...   \n",
       "3        may   nrw state criminal police office  lka ...   \n",
       "4       offers  website   information around fake new...   \n",
       "...                                                  ...   \n",
       "10086                 delhi metro largest subway reopens   \n",
       "10087    state  assam   wearing face masks  social di...   \n",
       "10088   state  assam   establishes  sop  cinemas   pu...   \n",
       "10089   government  goa    th oct announced  parties ...   \n",
       "10090   -- delhi province    issued  order regarding ...   \n",
       "\n",
       "                               type type_code  \n",
       "0      Anti-Disinformation Measures         0  \n",
       "1      Anti-Disinformation Measures         0  \n",
       "2      Anti-Disinformation Measures         0  \n",
       "3      Anti-Disinformation Measures         0  \n",
       "4      Anti-Disinformation Measures         0  \n",
       "...                             ...       ...  \n",
       "10086             Social Distancing        18  \n",
       "10087             Social Distancing        18  \n",
       "10088             Social Distancing        18  \n",
       "10089             Social Distancing        18  \n",
       "10090             Social Distancing        18  \n",
       "\n",
       "[10091 rows x 3 columns]"
      ]
     },
     "execution_count": 62,
     "metadata": {},
     "output_type": "execute_result"
    }
   ],
   "source": [
    "df2"
   ]
  },
  {
   "cell_type": "markdown",
   "metadata": {},
   "source": [
    "## 3. Fit the model"
   ]
  },
  {
   "cell_type": "code",
   "execution_count": 63,
   "metadata": {},
   "outputs": [
    {
     "data": {
      "text/plain": [
       "[0.3085932721712538,\n",
       " 0.4814408396946565,\n",
       " 0.49128529698149953,\n",
       " 0.6827469553450609,\n",
       " 0.6949724517906336,\n",
       " 0.7166903409090909,\n",
       " 0.7187321937321938,\n",
       " 0.8298519736842105,\n",
       " 1.0577568134171909,\n",
       " 1.1733720930232558,\n",
       " 1.3105194805194804,\n",
       " 1.4883480825958701,\n",
       " 1.7955516014234876,\n",
       " 2.156196581196581,\n",
       " 2.787569060773481,\n",
       " 2.9505847953216375,\n",
       " 3.1933544303797468,\n",
       " 3.2977124183006534,\n",
       " 10.091,\n",
       " 11.733720930232558]"
      ]
     },
     "execution_count": 63,
     "metadata": {},
     "output_type": "execute_result"
    }
   ],
   "source": [
    "from sklearn.utils import class_weight\n",
    "class_weights = list(class_weight.compute_class_weight('balanced', \n",
    "                                                       np.unique(df2['type']), \n",
    "                                                       df2['type']))\n",
    "class_weights.sort()\n",
    "class_weights"
   ]
  },
  {
   "cell_type": "code",
   "execution_count": 64,
   "metadata": {},
   "outputs": [
    {
     "data": {
      "text/plain": [
       "{0: 0.3085932721712538,\n",
       " 1: 0.4814408396946565,\n",
       " 2: 0.49128529698149953,\n",
       " 3: 0.6827469553450609,\n",
       " 4: 0.6949724517906336,\n",
       " 5: 0.7166903409090909,\n",
       " 6: 0.7187321937321938,\n",
       " 7: 0.8298519736842105,\n",
       " 8: 1.0577568134171909,\n",
       " 9: 1.1733720930232558,\n",
       " 10: 1.3105194805194804,\n",
       " 11: 1.4883480825958701,\n",
       " 12: 1.7955516014234876,\n",
       " 13: 2.156196581196581,\n",
       " 14: 2.787569060773481,\n",
       " 15: 2.9505847953216375,\n",
       " 16: 3.1933544303797468,\n",
       " 17: 3.2977124183006534,\n",
       " 18: 10.091,\n",
       " 19: 11.733720930232558}"
      ]
     },
     "execution_count": 64,
     "metadata": {},
     "output_type": "execute_result"
    }
   ],
   "source": [
    "weights = {}\n",
    "for index, weight in enumerate(class_weights) :\n",
    "    weights[index] = weight\n",
    "    \n",
    "weights"
   ]
  },
  {
   "cell_type": "code",
   "execution_count": 65,
   "metadata": {},
   "outputs": [],
   "source": [
    "dataset_train = tf.data.Dataset.from_tensor_slices((X_train.values, y_train.values))\n",
    "dataset_test = tf.data.Dataset.from_tensor_slices((X_test.values, y_test.values))"
   ]
  },
  {
   "cell_type": "code",
   "execution_count": 66,
   "metadata": {},
   "outputs": [
    {
     "name": "stdout",
     "output_type": "stream",
     "text": [
      "Desc: b' us embassy montevideo consular section  closed   routine consular services   notice    emergency situations   considered   time ', label: b'Restriction and Regulation of Government Services'\n",
      "Desc: b' pennsylvania governor signed  senate bill    waives  requirement  schools    session  least  days  provides  continuity  education plans  ensures school employees  paid   closure   provides  secretary  education  authority  waive student teacher  standardized assessments   march  ', label: b'Closure and Regulation of Schools'\n",
      "Desc: b\"dumka   district   n state  jharkhand   defined  government services  would remain operational   lockdown   follows    law  order agencies -  function without  restrictions   officers attendance - compulsory  grade ''  'b' officers  reduced  %  grade 'c'      district administration  treasury officials -   function  restricted staff    wildlife  forest officers -  function  taking necessary precautions \", label: b'Restriction and Regulation of Government Services'\n",
      "Desc: b'texas     reopening  non-essential businesses starting may      per executive order ga-    hair salons  barber shops  nail salons   tanning salons must maintain mandatory ft distance  patrons    swimming pools  operate  % capacity     may   jail time  removed   enforcement mechanism  update   may   gov  abbott removed jail time   penalty  failing  follow covid- restrictions ', label: b'Restriction and Regulation of Businesses'\n",
      "Desc: b' public safety curfew   imposed  mobile  alabama  effective   pm  april      remain  effect  april      persons shall remain   places  residence  shall    public places ', label: b'Lockdown'\n"
     ]
    }
   ],
   "source": [
    "for text, target in dataset_train.take(5):\n",
    "    print('Desc: {}, label: {}'.format(text, target))"
   ]
  },
  {
   "cell_type": "code",
   "execution_count": 67,
   "metadata": {},
   "outputs": [],
   "source": [
    "table = tf.lookup.StaticHashTable(\n",
    "    initializer=tf.lookup.KeyValueTensorInitializer(\n",
    "        keys=tf.constant(list(category_codes.keys())),\n",
    "        values = tf.constant(list(category_codes.values()))\n",
    "    ),\n",
    "    default_value=tf.constant(-1),\n",
    "    name=\"target_encoding\"\n",
    ")\n",
    "\n",
    "@tf.function\n",
    "def target(x):\n",
    "    return table.lookup(x)"
   ]
  },
  {
   "cell_type": "code",
   "execution_count": 89,
   "metadata": {},
   "outputs": [],
   "source": [
    "def fetch(text, labels):\n",
    "    return text, tf.one_hot(target(labels), 19)\n",
    "\n",
    "train_data_fetch = dataset_train.map(fetch)\n",
    "test_data_fetch = dataset_test.map(fetch)"
   ]
  },
  {
   "cell_type": "markdown",
   "metadata": {},
   "source": [
    "#### Start creating a model"
   ]
  },
  {
   "cell_type": "code",
   "execution_count": 140,
   "metadata": {},
   "outputs": [
    {
     "data": {
      "text/plain": [
       "<tf.Tensor: shape=(1, 128), dtype=float32, numpy=\n",
       "array([[ 1.85923278e-01,  3.82673025e-01,  8.69123638e-02,\n",
       "        -2.36745372e-01, -1.19763926e-01, -5.65516986e-02,\n",
       "         2.45870352e-01,  5.02816178e-02, -2.10541233e-01,\n",
       "        -4.42932360e-02,  1.28366366e-01,  1.47269592e-01,\n",
       "         1.41175740e-04,  4.45434526e-02,  2.13784329e-03,\n",
       "         1.61750317e-01, -2.32903764e-01, -2.10702419e-01,\n",
       "        -2.09106982e-01,  1.55449033e-01,  4.53584678e-02,\n",
       "         4.31233309e-02,  1.48296393e-02, -1.68935359e-01,\n",
       "         1.12579502e-01, -1.03304483e-01,  1.61703452e-01,\n",
       "         2.13061482e-01, -4.74388264e-02,  1.27027377e-01,\n",
       "        -3.04564610e-02, -1.92816645e-01, -3.22420187e-02,\n",
       "         2.94271410e-01,  2.97213867e-02,  1.13602817e-01,\n",
       "         8.43360722e-02, -1.42353237e-01,  1.92280009e-01,\n",
       "         4.26607989e-02, -2.84466296e-02, -2.83433974e-01,\n",
       "        -1.92027800e-02,  1.16621844e-01, -1.83381909e-03,\n",
       "         2.30389148e-01,  1.43880561e-01,  1.20757513e-01,\n",
       "         6.97217882e-02,  1.55186281e-01, -4.44862060e-03,\n",
       "        -1.33291930e-01,  9.33205038e-02,  2.34950595e-02,\n",
       "        -1.26728743e-01, -1.01967290e-01, -1.61414444e-01,\n",
       "         7.34680817e-02,  7.64270825e-03,  6.22901507e-02,\n",
       "        -1.14593366e-02, -1.15555450e-01,  5.17773591e-02,\n",
       "         1.18872181e-01,  1.88764371e-02,  1.06175207e-01,\n",
       "         5.64038344e-02, -1.08265899e-01, -1.85004860e-01,\n",
       "        -4.39635180e-02,  1.85261592e-02, -7.53790513e-02,\n",
       "         1.13498747e-01, -4.51438837e-02, -1.02808677e-01,\n",
       "         2.15141684e-01, -4.18873914e-02, -1.44550055e-01,\n",
       "         2.52862245e-01, -6.60782084e-02,  1.41914472e-01,\n",
       "         2.81181093e-02, -1.77865922e-01, -7.41805285e-02,\n",
       "         7.91486725e-02,  9.68131274e-02, -6.10646233e-02,\n",
       "        -5.66405579e-02,  2.02913165e-01,  2.40991801e-01,\n",
       "        -7.00573474e-02,  2.61978000e-01,  4.34019268e-02,\n",
       "        -8.58424976e-02,  4.75271754e-02,  5.76332100e-02,\n",
       "        -1.76469721e-02, -8.90853703e-02, -2.36360520e-01,\n",
       "        -4.13335338e-02, -6.32799119e-02, -2.34311548e-04,\n",
       "        -4.95078834e-03, -1.25587046e-01,  5.80709912e-02,\n",
       "         1.97757676e-01, -4.38396633e-02,  1.49907649e-01,\n",
       "         3.89008857e-02, -7.38416240e-02, -2.59130806e-01,\n",
       "         4.36296389e-02, -4.88993190e-02, -1.34928495e-01,\n",
       "         1.04996361e-01, -1.55835018e-01,  4.60754074e-02,\n",
       "        -2.10449379e-02, -1.05313942e-01,  3.07849318e-01,\n",
       "        -3.06393560e-02,  7.47217685e-02,  2.80890148e-02,\n",
       "         2.91099958e-02, -1.19665684e-02,  2.07535382e-02,\n",
       "         2.51925200e-01,  1.63388476e-01]], dtype=float32)>"
      ]
     },
     "execution_count": 140,
     "metadata": {},
     "output_type": "execute_result"
    }
   ],
   "source": [
    "embedding = \"https://tfhub.dev/google/nnlm-en-dim128/2\"\n",
    "hub_layer = hub.KerasLayer(embedding, output_shape=[128],input_shape=[], dtype=tf.string,\n",
    "                          trainable=True)\n",
    "hub_layer(train_data[:1])"
   ]
  },
  {
   "cell_type": "code",
   "execution_count": 91,
   "metadata": {},
   "outputs": [
    {
     "name": "stdout",
     "output_type": "stream",
     "text": [
      "Model: \"sequential_5\"\n",
      "_________________________________________________________________\n",
      "Layer (type)                 Output Shape              Param #   \n",
      "=================================================================\n",
      "keras_layer_3 (KerasLayer)   (None, 128)               124642688 \n",
      "_________________________________________________________________\n",
      "dense_25 (Dense)             (None, 128)               16512     \n",
      "_________________________________________________________________\n",
      "dense_26 (Dense)             (None, 128)               16512     \n",
      "_________________________________________________________________\n",
      "dense_27 (Dense)             (None, 64)                8256      \n",
      "_________________________________________________________________\n",
      "dense_28 (Dense)             (None, 32)                2080      \n",
      "_________________________________________________________________\n",
      "dense_29 (Dense)             (None, 19)                627       \n",
      "=================================================================\n",
      "Total params: 124,686,675\n",
      "Trainable params: 124,686,675\n",
      "Non-trainable params: 0\n",
      "_________________________________________________________________\n"
     ]
    }
   ],
   "source": [
    "#build the basic model without dropout\n",
    "model_wo_dropout = tf.keras.Sequential()\n",
    "model_wo_dropout.add(hub_layer)\n",
    "for units in [128, 128, 64, 32]:\n",
    "    model_wo_dropout.add(tf.keras.layers.Dense(units, activation='relu'))\n",
    "model_wo_dropout.add(tf.keras.layers.Dense(19, activation='softmax'))\n",
    "\n",
    "model_wo_dropout.summary()"
   ]
  },
  {
   "cell_type": "code",
   "execution_count": 92,
   "metadata": {},
   "outputs": [],
   "source": [
    "#compile the model\n",
    "model_wo_dropout.compile(optimizer='adam', \n",
    "              loss=tf.keras.losses.CategoricalCrossentropy(from_logits=True),\n",
    "              metrics=['accuracy'])"
   ]
  },
  {
   "cell_type": "code",
   "execution_count": 93,
   "metadata": {},
   "outputs": [],
   "source": [
    "train_data_fetch = train_data_fetch.shuffle(70000).batch(512)\n",
    "test_data_fetch = test_data_fetch.batch(512)"
   ]
  },
  {
   "cell_type": "code",
   "execution_count": null,
   "metadata": {},
   "outputs": [],
   "source": [
    "#fit the model\n",
    "from keras import callbacks\n",
    "earlystopping = callbacks.EarlyStopping(monitor=\"val_loss\", mode=\"min\", patience=5, restore_best_weights=True, verbose=1)\n",
    "text_classifier_wo_dropout = model_wo_dropout.fit(train_data_fetch, epochs=25, validation_data = test_data_fetch,\n",
    "                   verbose=1, class_weight=weights, callbacks =[earlystopping])"
   ]
  },
  {
   "cell_type": "code",
   "execution_count": 80,
   "metadata": {},
   "outputs": [
    {
     "name": "stdout",
     "output_type": "stream",
     "text": [
      "1/1 - 0s - loss: 1.1629 - accuracy: 0.6526\n",
      "[1.1628882884979248, 0.6525759696960449]\n"
     ]
    }
   ],
   "source": [
    "test_length = len(list(dataset_test))\n",
    "results = model_wo_dropout.evaluate(dataset_test.map(fetch).batch(test_length), verbose=2)\n",
    "print(results)"
   ]
  },
  {
   "cell_type": "code",
   "execution_count": 81,
   "metadata": {},
   "outputs": [
    {
     "name": "stdout",
     "output_type": "stream",
     "text": [
      "              precision    recall  f1-score   support\n",
      "\n",
      "           0       0.00      0.00      0.00       110\n",
      "           1       0.00      0.00      0.00        29\n",
      "           2       1.00      0.05      0.09        21\n",
      "           3       0.92      0.79      0.85       126\n",
      "           4       0.79      0.75      0.77        36\n",
      "           5       0.63      0.41      0.50        29\n",
      "           6       0.25      0.05      0.08        22\n",
      "           7       0.51      0.60      0.55       161\n",
      "           8       0.44      0.63      0.52        60\n",
      "           9       0.80      0.19      0.31        21\n",
      "          10       0.57      0.79      0.66        66\n",
      "          11       0.46      0.45      0.46        53\n",
      "          12       0.00      0.00      0.00         4\n",
      "          13       0.37      0.69      0.49        59\n",
      "          14       0.67      0.87      0.76       108\n",
      "          15       0.79      0.88      0.83       243\n",
      "          16       0.54      0.74      0.62       109\n",
      "          17       0.88      0.80      0.84       157\n",
      "          18       0.70      0.78      0.74       100\n",
      "\n",
      "    accuracy                           0.65      1514\n",
      "   macro avg       0.54      0.50      0.48      1514\n",
      "weighted avg       0.61      0.65      0.62      1514\n",
      "\n"
     ]
    },
    {
     "name": "stderr",
     "output_type": "stream",
     "text": [
      "/opt/anaconda3/lib/python3.7/site-packages/sklearn/metrics/_classification.py:1272: UndefinedMetricWarning: Precision and F-score are ill-defined and being set to 0.0 in labels with no predicted samples. Use `zero_division` parameter to control this behavior.\n",
      "  _warn_prf(average, modifier, msg_start, len(result))\n"
     ]
    }
   ],
   "source": [
    "test_data, test_labels = next(iter(dataset_test.map(fetch).batch(test_length)))\n",
    "y_pred = model_wo_dropout.predict(test_data)\n",
    "\n",
    "print(classification_report(test_labels.numpy().argmax(axis=1), y_pred.argmax(axis=1)))"
   ]
  },
  {
   "cell_type": "markdown",
   "metadata": {},
   "source": [
    "#### Model with Dropout layers"
   ]
  },
  {
   "cell_type": "code",
   "execution_count": 143,
   "metadata": {},
   "outputs": [],
   "source": [
    "train_data_fetch = dataset_train.map(fetch)\n",
    "test_data_fetch = dataset_test.map(fetch)"
   ]
  },
  {
   "cell_type": "code",
   "execution_count": 144,
   "metadata": {},
   "outputs": [
    {
     "name": "stdout",
     "output_type": "stream",
     "text": [
      "8577\n",
      "1514\n"
     ]
    }
   ],
   "source": [
    "print(len(train_data_fetch))\n",
    "print(len(test_data_fetch))"
   ]
  },
  {
   "cell_type": "code",
   "execution_count": 145,
   "metadata": {},
   "outputs": [
    {
     "name": "stdout",
     "output_type": "stream",
     "text": [
      "Model: \"sequential_12\"\n",
      "_________________________________________________________________\n",
      "Layer (type)                 Output Shape              Param #   \n",
      "=================================================================\n",
      "keras_layer_5 (KerasLayer)   (None, 128)               124642688 \n",
      "_________________________________________________________________\n",
      "dense_60 (Dense)             (None, 128)               16512     \n",
      "_________________________________________________________________\n",
      "dropout_32 (Dropout)         (None, 128)               0         \n",
      "_________________________________________________________________\n",
      "dense_61 (Dense)             (None, 128)               16512     \n",
      "_________________________________________________________________\n",
      "dropout_33 (Dropout)         (None, 128)               0         \n",
      "_________________________________________________________________\n",
      "dense_62 (Dense)             (None, 64)                8256      \n",
      "_________________________________________________________________\n",
      "dropout_34 (Dropout)         (None, 64)                0         \n",
      "_________________________________________________________________\n",
      "dense_63 (Dense)             (None, 32)                2080      \n",
      "_________________________________________________________________\n",
      "dropout_35 (Dropout)         (None, 32)                0         \n",
      "_________________________________________________________________\n",
      "dense_64 (Dense)             (None, 19)                627       \n",
      "=================================================================\n",
      "Total params: 124,686,675\n",
      "Trainable params: 124,686,675\n",
      "Non-trainable params: 0\n",
      "_________________________________________________________________\n"
     ]
    }
   ],
   "source": [
    "# build the model\n",
    "model = tf.keras.Sequential()\n",
    "model.add(hub_layer)\n",
    "for units in [128, 128, 64, 32]:\n",
    "    model.add(tf.keras.layers.Dense(units, activation='relu'))\n",
    "    model.add(tf.keras.layers.Dropout(0.3))\n",
    "model.add(tf.keras.layers.Dense(19, activation='softmax'))\n",
    "\n",
    "model.summary()"
   ]
  },
  {
   "cell_type": "code",
   "execution_count": 146,
   "metadata": {},
   "outputs": [],
   "source": [
    "#compile the model\n",
    "model.compile(optimizer='adam', \n",
    "              loss=tf.keras.losses.CategoricalCrossentropy(from_logits=True),\n",
    "              metrics=['accuracy'])"
   ]
  },
  {
   "cell_type": "code",
   "execution_count": 147,
   "metadata": {},
   "outputs": [],
   "source": [
    "train_data_fetch = train_data_fetch.shuffle(10000).batch(1500)\n",
    "test_data_fetch = test_data_fetch.batch(512)"
   ]
  },
  {
   "cell_type": "code",
   "execution_count": 148,
   "metadata": {},
   "outputs": [
    {
     "name": "stdout",
     "output_type": "stream",
     "text": [
      "Epoch 1/100\n",
      "6/6 [==============================] - 17s 2s/step - loss: 7.0030 - accuracy: 0.0679 - val_loss: 2.6679 - val_accuracy: 0.1598\n",
      "Epoch 2/100\n",
      "6/6 [==============================] - 15s 2s/step - loss: 6.5910 - accuracy: 0.0842 - val_loss: 2.6236 - val_accuracy: 0.1242\n",
      "Epoch 3/100\n",
      "6/6 [==============================] - 15s 2s/step - loss: 6.2613 - accuracy: 0.0865 - val_loss: 2.6313 - val_accuracy: 0.0661\n",
      "Epoch 4/100\n",
      "6/6 [==============================] - 11s 2s/step - loss: 5.9647 - accuracy: 0.0967 - val_loss: 2.5381 - val_accuracy: 0.1129\n",
      "Epoch 5/100\n",
      "6/6 [==============================] - 15s 3s/step - loss: 5.5298 - accuracy: 0.1411 - val_loss: 2.4345 - val_accuracy: 0.1935\n",
      "Epoch 6/100\n",
      "6/6 [==============================] - 15s 2s/step - loss: 5.0552 - accuracy: 0.1789 - val_loss: 2.3583 - val_accuracy: 0.2067\n",
      "Epoch 7/100\n",
      "6/6 [==============================] - 14s 2s/step - loss: 4.5698 - accuracy: 0.2118 - val_loss: 2.2540 - val_accuracy: 0.2622\n",
      "Epoch 8/100\n",
      "6/6 [==============================] - 15s 2s/step - loss: 4.1635 - accuracy: 0.2628 - val_loss: 2.1494 - val_accuracy: 0.3296\n",
      "Epoch 9/100\n",
      "6/6 [==============================] - 17s 2s/step - loss: 3.6781 - accuracy: 0.3094 - val_loss: 2.0362 - val_accuracy: 0.3679\n",
      "Epoch 10/100\n",
      "6/6 [==============================] - 15s 2s/step - loss: 3.2464 - accuracy: 0.3589 - val_loss: 1.9360 - val_accuracy: 0.3844\n",
      "Epoch 11/100\n",
      "6/6 [==============================] - 13s 2s/step - loss: 2.8893 - accuracy: 0.3850 - val_loss: 1.8560 - val_accuracy: 0.3956\n",
      "Epoch 12/100\n",
      "6/6 [==============================] - 13s 2s/step - loss: 2.6235 - accuracy: 0.4064 - val_loss: 1.7935 - val_accuracy: 0.4055\n",
      "Epoch 13/100\n",
      "6/6 [==============================] - 13s 2s/step - loss: 2.3620 - accuracy: 0.4210 - val_loss: 1.7677 - val_accuracy: 0.4062\n",
      "Epoch 14/100\n",
      "6/6 [==============================] - 13s 2s/step - loss: 2.1955 - accuracy: 0.4347 - val_loss: 1.7434 - val_accuracy: 0.4102\n",
      "Epoch 15/100\n",
      "6/6 [==============================] - 14s 2s/step - loss: 2.0549 - accuracy: 0.4407 - val_loss: 1.7107 - val_accuracy: 0.4148\n",
      "Epoch 16/100\n",
      "6/6 [==============================] - 15s 2s/step - loss: 1.9007 - accuracy: 0.4587 - val_loss: 1.6983 - val_accuracy: 0.4234\n",
      "Epoch 17/100\n",
      "6/6 [==============================] - 13s 2s/step - loss: 1.7832 - accuracy: 0.4749 - val_loss: 1.6648 - val_accuracy: 0.4366\n",
      "Epoch 18/100\n",
      "6/6 [==============================] - 15s 2s/step - loss: 1.6855 - accuracy: 0.4996 - val_loss: 1.6329 - val_accuracy: 0.4617\n",
      "Epoch 19/100\n",
      "6/6 [==============================] - 12s 2s/step - loss: 1.5930 - accuracy: 0.5095 - val_loss: 1.6071 - val_accuracy: 0.4637\n",
      "Epoch 20/100\n",
      "6/6 [==============================] - 14s 2s/step - loss: 1.4950 - accuracy: 0.5298 - val_loss: 1.5850 - val_accuracy: 0.4782\n",
      "Epoch 21/100\n",
      "6/6 [==============================] - 15s 2s/step - loss: 1.3883 - accuracy: 0.5444 - val_loss: 1.5623 - val_accuracy: 0.4954\n",
      "Epoch 22/100\n",
      "6/6 [==============================] - 13s 2s/step - loss: 1.3564 - accuracy: 0.5565 - val_loss: 1.5534 - val_accuracy: 0.5092\n",
      "Epoch 23/100\n",
      "6/6 [==============================] - 14s 2s/step - loss: 1.2724 - accuracy: 0.5700 - val_loss: 1.5326 - val_accuracy: 0.5251\n",
      "Epoch 24/100\n",
      "6/6 [==============================] - 14s 2s/step - loss: 1.2152 - accuracy: 0.5924 - val_loss: 1.5158 - val_accuracy: 0.5449\n",
      "Epoch 25/100\n",
      "6/6 [==============================] - 12s 2s/step - loss: 1.1660 - accuracy: 0.6024 - val_loss: 1.4992 - val_accuracy: 0.5568\n",
      "Epoch 26/100\n",
      "6/6 [==============================] - 13s 2s/step - loss: 1.0865 - accuracy: 0.6171 - val_loss: 1.4826 - val_accuracy: 0.5601\n",
      "Epoch 27/100\n",
      "6/6 [==============================] - 14s 2s/step - loss: 1.0388 - accuracy: 0.6311 - val_loss: 1.4947 - val_accuracy: 0.5746\n",
      "Epoch 28/100\n",
      "6/6 [==============================] - 12s 2s/step - loss: 1.0063 - accuracy: 0.6383 - val_loss: 1.4620 - val_accuracy: 0.5845\n",
      "Epoch 29/100\n",
      "6/6 [==============================] - 13s 2s/step - loss: 0.9550 - accuracy: 0.6576 - val_loss: 1.4506 - val_accuracy: 0.5885\n",
      "Epoch 30/100\n",
      "6/6 [==============================] - 12s 2s/step - loss: 0.8921 - accuracy: 0.6674 - val_loss: 1.4586 - val_accuracy: 0.5945\n",
      "Epoch 31/100\n",
      "6/6 [==============================] - 12s 2s/step - loss: 0.8708 - accuracy: 0.6761 - val_loss: 1.4425 - val_accuracy: 0.6011\n",
      "Epoch 32/100\n",
      "6/6 [==============================] - 14s 2s/step - loss: 0.8426 - accuracy: 0.6825 - val_loss: 1.4549 - val_accuracy: 0.6050\n",
      "Epoch 33/100\n",
      "6/6 [==============================] - 12s 2s/step - loss: 0.8055 - accuracy: 0.6959 - val_loss: 1.4467 - val_accuracy: 0.6090\n",
      "Epoch 34/100\n",
      "6/6 [==============================] - 12s 2s/step - loss: 0.7451 - accuracy: 0.7055 - val_loss: 1.4722 - val_accuracy: 0.6044\n",
      "Epoch 35/100\n",
      "6/6 [==============================] - 14s 2s/step - loss: 0.7217 - accuracy: 0.7079 - val_loss: 1.4895 - val_accuracy: 0.6057\n",
      "Epoch 36/100\n",
      "6/6 [==============================] - 14s 2s/step - loss: 0.6986 - accuracy: 0.7134 - val_loss: 1.4975 - val_accuracy: 0.6096\n",
      "Restoring model weights from the end of the best epoch.\n",
      "Epoch 00036: early stopping\n"
     ]
    }
   ],
   "source": [
    "#fit the model\n",
    "text_classifier = model.fit(train_data_fetch, epochs=100, validation_data = test_data_fetch,\n",
    "                   verbose=1, class_weight=weights, callbacks =[earlystopping])"
   ]
  },
  {
   "cell_type": "code",
   "execution_count": 149,
   "metadata": {},
   "outputs": [
    {
     "name": "stdout",
     "output_type": "stream",
     "text": [
      "1/1 - 0s - loss: 1.4425 - accuracy: 0.6011\n",
      "[1.442507028579712, 0.6010568141937256]\n"
     ]
    }
   ],
   "source": [
    "test_length = len(list(dataset_test))\n",
    "results = model.evaluate(dataset_test.map(fetch).batch(test_length), verbose=2)\n",
    "print(results)"
   ]
  },
  {
   "cell_type": "code",
   "execution_count": 150,
   "metadata": {},
   "outputs": [
    {
     "name": "stdout",
     "output_type": "stream",
     "text": [
      "              precision    recall  f1-score   support\n",
      "\n",
      "           0       0.00      0.00      0.00       110\n",
      "           1       0.00      0.00      0.00        29\n",
      "           2       0.00      0.00      0.00        21\n",
      "           3       0.62      0.79      0.70       126\n",
      "           4       0.00      0.00      0.00        36\n",
      "           5       0.00      0.00      0.00        29\n",
      "           6       0.00      0.00      0.00        22\n",
      "           7       0.53      0.61      0.57       161\n",
      "           8       0.00      0.00      0.00        60\n",
      "           9       0.00      0.00      0.00        21\n",
      "          10       0.65      0.76      0.70        66\n",
      "          11       0.18      0.40      0.25        53\n",
      "          12       0.00      0.00      0.00         4\n",
      "          13       0.26      0.59      0.36        59\n",
      "          14       0.70      0.91      0.79       108\n",
      "          15       0.76      0.88      0.81       243\n",
      "          16       0.64      0.72      0.68       109\n",
      "          17       0.77      0.82      0.79       157\n",
      "          18       0.68      0.86      0.76       100\n",
      "\n",
      "    accuracy                           0.60      1514\n",
      "   macro avg       0.30      0.39      0.34      1514\n",
      "weighted avg       0.49      0.60      0.54      1514\n",
      "\n"
     ]
    }
   ],
   "source": [
    "test_data, test_labels = next(iter(dataset_test.map(fetch).batch(test_length)))\n",
    "y_pred = model.predict(test_data)\n",
    "\n",
    "print(classification_report(test_labels.numpy().argmax(axis=1), y_pred.argmax(axis=1)))"
   ]
  },
  {
   "cell_type": "code",
   "execution_count": 107,
   "metadata": {},
   "outputs": [
    {
     "name": "stdout",
     "output_type": "stream",
     "text": [
      "              precision    recall  f1-score   support\n",
      "\n",
      "           3       1.00      1.00      1.00         1\n",
      "          10       1.00      1.00      1.00         1\n",
      "          15       1.00      1.00      1.00         1\n",
      "          16       1.00      1.00      1.00         2\n",
      "\n",
      "    accuracy                           1.00         5\n",
      "   macro avg       1.00      1.00      1.00         5\n",
      "weighted avg       1.00      1.00      1.00         5\n",
      "\n"
     ]
    }
   ],
   "source": [
    "y_train_pred = model.predict(train_data)\n",
    "\n",
    "print(classification_report(train_labels.numpy().argmax(axis=1), y_train_pred.argmax(axis=1)))"
   ]
  },
  {
   "cell_type": "code",
   "execution_count": 108,
   "metadata": {},
   "outputs": [
    {
     "data": {
      "text/plain": [
       "<tf.Tensor: shape=(5, 19), dtype=float32, numpy=\n",
       "array([[0., 0., 0., 0., 0., 0., 0., 0., 0., 0., 0., 0., 0., 0., 0., 0.,\n",
       "        1., 0., 0.],\n",
       "       [0., 0., 0., 1., 0., 0., 0., 0., 0., 0., 0., 0., 0., 0., 0., 0.,\n",
       "        0., 0., 0.],\n",
       "       [0., 0., 0., 0., 0., 0., 0., 0., 0., 0., 0., 0., 0., 0., 0., 0.,\n",
       "        1., 0., 0.],\n",
       "       [0., 0., 0., 0., 0., 0., 0., 0., 0., 0., 0., 0., 0., 0., 0., 1.,\n",
       "        0., 0., 0.],\n",
       "       [0., 0., 0., 0., 0., 0., 0., 0., 0., 0., 1., 0., 0., 0., 0., 0.,\n",
       "        0., 0., 0.]], dtype=float32)>"
      ]
     },
     "execution_count": 108,
     "metadata": {},
     "output_type": "execute_result"
    }
   ],
   "source": [
    "train_labels"
   ]
  },
  {
   "cell_type": "code",
   "execution_count": 109,
   "metadata": {},
   "outputs": [
    {
     "data": {
      "text/plain": [
       "<tf.Tensor: shape=(5,), dtype=string, numpy=\n",
       "array([b' us embassy montevideo consular section  closed   routine consular services   notice    emergency situations   considered   time ',\n",
       "       b' pennsylvania governor signed  senate bill    waives  requirement  schools    session  least  days  provides  continuity  education plans  ensures school employees  paid   closure   provides  secretary  education  authority  waive student teacher  standardized assessments   march  ',\n",
       "       b\"dumka   district   n state  jharkhand   defined  government services  would remain operational   lockdown   follows    law  order agencies -  function without  restrictions   officers attendance - compulsory  grade ''  'b' officers  reduced  %  grade 'c'      district administration  treasury officials -   function  restricted staff    wildlife  forest officers -  function  taking necessary precautions \",\n",
       "       b'texas     reopening  non-essential businesses starting may      per executive order ga-    hair salons  barber shops  nail salons   tanning salons must maintain mandatory ft distance  patrons    swimming pools  operate  % capacity     may   jail time  removed   enforcement mechanism  update   may   gov  abbott removed jail time   penalty  failing  follow covid- restrictions ',\n",
       "       b' public safety curfew   imposed  mobile  alabama  effective   pm  april      remain  effect  april      persons shall remain   places  residence  shall    public places '],\n",
       "      dtype=object)>"
      ]
     },
     "execution_count": 109,
     "metadata": {},
     "output_type": "execute_result"
    }
   ],
   "source": [
    "train_data"
   ]
  },
  {
   "cell_type": "code",
   "execution_count": null,
   "metadata": {},
   "outputs": [],
   "source": []
  }
 ],
 "metadata": {
  "kernelspec": {
   "display_name": "Python 3",
   "language": "python",
   "name": "python3"
  },
  "language_info": {
   "codemirror_mode": {
    "name": "ipython",
    "version": 3
   },
   "file_extension": ".py",
   "mimetype": "text/x-python",
   "name": "python",
   "nbconvert_exporter": "python",
   "pygments_lexer": "ipython3",
   "version": "3.7.6"
  }
 },
 "nbformat": 4,
 "nbformat_minor": 4
}
